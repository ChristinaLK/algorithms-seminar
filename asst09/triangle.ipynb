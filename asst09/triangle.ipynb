{
 "metadata": {
  "name": ""
 },
 "nbformat": 3,
 "nbformat_minor": 0,
 "worksheets": [
  {
   "cells": [
    {
     "cell_type": "code",
     "collapsed": false,
     "input": [
      "triangle = [[1],[4,5],[2,4,7],[1,7,8,2]]\n",
      "                               \n",
      "for i in triangle:\n",
      "    print i"
     ],
     "language": "python",
     "metadata": {},
     "outputs": [
      {
       "output_type": "stream",
       "stream": "stdout",
       "text": [
        "[1]\n",
        "[4, 5]\n",
        "[2, 4, 7]\n",
        "[1, 7, 8, 2]\n"
       ]
      }
     ],
     "prompt_number": 8
    },
    {
     "cell_type": "code",
     "collapsed": false,
     "input": [
      "def compare(upper_row, lower_row):\n",
      "    output = [0]*len(upper_row)\n",
      "    for i in range(len(upper_row)):\n",
      "        if upper_row[i] + lower_row[i] > upper_row[i]+lower_row[i+1]:\n",
      "            output[i] = (upper_row[i]+lower_row[i])\n",
      "        else:\n",
      "            output[i] =(upper_row[i]+lower_row[i+1])\n",
      "    return output"
     ],
     "language": "python",
     "metadata": {},
     "outputs": [],
     "prompt_number": 9
    },
    {
     "cell_type": "code",
     "collapsed": false,
     "input": [
      "assert [8, 12] == compare(triangle[1],triangle[2])\n",
      "assert [9,12,15] == compare(triangle[2],triangle[3])"
     ],
     "language": "python",
     "metadata": {},
     "outputs": [],
     "prompt_number": 10
    },
    {
     "cell_type": "code",
     "collapsed": false,
     "input": [
      "def iter_compare(row_list):\n",
      "    end = len(row_list)\n",
      "    output = row_list[-1]\n",
      "    for i in range(2,end+1):\n",
      "        output = compare(row_list[-i], output)\n",
      "    return output"
     ],
     "language": "python",
     "metadata": {},
     "outputs": [],
     "prompt_number": 11
    },
    {
     "cell_type": "code",
     "collapsed": false,
     "input": [
      "assert [21] == iter_compare(triangle)"
     ],
     "language": "python",
     "metadata": {},
     "outputs": [],
     "prompt_number": 12
    },
    {
     "cell_type": "code",
     "collapsed": false,
     "input": [
      "input_file = open(\"triangle.txt\", \"r\")\n",
      "\n",
      "triangle_list = []\n",
      "\n",
      "for counter,line in enumerate(input_file):\n",
      "    temp = line.split()\n",
      "    triangle_list.append([int(x) for x in temp])\n",
      "\n",
      "for i in range(5):\n",
      "    print triangle_list[i]\n",
      "print triangle_list[99]"
     ],
     "language": "python",
     "metadata": {},
     "outputs": [
      {
       "output_type": "stream",
       "stream": "stdout",
       "text": [
        "[59]\n",
        "[73, 41]\n",
        "[52, 40, 9]\n",
        "[26, 53, 6, 34]\n",
        "[10, 51, 87, 86, 81]\n",
        "[23, 33, 44, 81, 80, 92, 93, 75, 94, 88, 23, 61, 39, 76, 22, 3, 28, 94, 32, 6, 49, 65, 41, 34, 18, 23, 8, 47, 62, 60, 3, 63, 33, 13, 80, 52, 31, 54, 73, 43, 70, 26, 16, 69, 57, 87, 83, 31, 3, 93, 70, 81, 47, 95, 77, 44, 29, 68, 39, 51, 56, 59, 63, 7, 25, 70, 7, 77, 43, 53, 64, 3, 94, 42, 95, 39, 18, 1, 66, 21, 16, 97, 20, 50, 90, 16, 70, 10, 95, 69, 29, 6, 25, 61, 41, 26, 15, 59, 63, 35]\n"
       ]
      }
     ],
     "prompt_number": 13
    },
    {
     "cell_type": "code",
     "collapsed": false,
     "input": [
      "print iter_compare(triangle_list)"
     ],
     "language": "python",
     "metadata": {},
     "outputs": [
      {
       "output_type": "stream",
       "stream": "stdout",
       "text": [
        "[7273]\n"
       ]
      }
     ],
     "prompt_number": 14
    },
    {
     "cell_type": "code",
     "collapsed": false,
     "input": [
      "input_file = open(\"small_triangle.txt\", \"r\")\n",
      "\n",
      "triangle_small = []\n",
      "\n",
      "for counter,line in enumerate(input_file):\n",
      "    temp = line.split()\n",
      "    triangle_small.append([int(x) for x in temp])\n",
      "\n",
      "for i in range(5):\n",
      "    print triangle_small[i]\n",
      "print triangle_list[14]"
     ],
     "language": "python",
     "metadata": {},
     "outputs": [
      {
       "output_type": "stream",
       "stream": "stdout",
       "text": [
        "[75]\n",
        "[95, 64]\n",
        "[17, 47, 82]\n",
        "[18, 35, 87, 10]\n",
        "[20, 4, 82, 47, 65]\n",
        "[6, 17, 51, 17, 7, 93, 9, 7, 75, 97, 95, 78, 87, 8, 53]\n"
       ]
      }
     ],
     "prompt_number": 15
    },
    {
     "cell_type": "code",
     "collapsed": false,
     "input": [
      "print iter_compare(triangle_small)"
     ],
     "language": "python",
     "metadata": {},
     "outputs": [
      {
       "output_type": "stream",
       "stream": "stdout",
       "text": [
        "[1074]\n"
       ]
      }
     ],
     "prompt_number": 16
    },
    {
     "cell_type": "code",
     "collapsed": false,
     "input": [],
     "language": "python",
     "metadata": {},
     "outputs": []
    }
   ],
   "metadata": {}
  }
 ]
}