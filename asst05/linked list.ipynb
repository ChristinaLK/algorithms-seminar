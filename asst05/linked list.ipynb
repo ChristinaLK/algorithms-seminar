{
 "metadata": {
  "name": "linked list"
 },
 "nbformat": 3,
 "nbformat_minor": 0,
 "worksheets": [
  {
   "cells": [
    {
     "cell_type": "code",
     "collapsed": false,
     "input": [
      "class node:\n",
      "    def __init__(self, value)\n",
      "        self.val = value\n",
      "\n",
      "class linked_list:\n",
      "    def __init__(self, L)\n",
      "        for val in L\n",
      "            node(val)\n",
      "        self.HEAD = node(L[1])\n",
      "        self.TAIL = something"
     ],
     "language": "python",
     "metadata": {},
     "outputs": []
    }
   ],
   "metadata": {}
  }
 ]
}