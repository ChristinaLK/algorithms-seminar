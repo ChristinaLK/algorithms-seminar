{
 "metadata": {
  "name": "workbook"
 },
 "nbformat": 3,
 "nbformat_minor": 0,
 "worksheets": [
  {
   "cells": [
    {
     "cell_type": "code",
     "collapsed": false,
     "input": [
      "list_1 = [2,4,9]\n",
      "list_2 = [1,5,10]\n",
      "\n",
      "#merged = []\n",
      "\n",
      "#merged.append(list_2.pop(0))\n",
      "#merged.append(list_1.pop(0))\n",
      "\n",
      "#print merged\n",
      "\n",
      "def merge_lists(A, B):\n",
      "    C = []\n",
      "    while A or B: #or j < len(B)):\n",
      "        if not A:\n",
      "            C.append(B.pop(0))\n",
      "            #print C\n",
      "        elif not B:\n",
      "            C.append(A.pop(0))\n",
      "        elif A[0] <= B[0]:\n",
      "            C.append(A.pop(0))\n",
      "            #print C\n",
      "        else:\n",
      "            C.append(B.pop(0))\n",
      "            #print C\n",
      "    return C\n",
      "            \n",
      "print merge_lists(list_1, list_2)\n",
      "    "
     ],
     "language": "python",
     "metadata": {},
     "outputs": [
      {
       "output_type": "stream",
       "stream": "stdout",
       "text": [
        "[1, 2, 4, 5, 9, 10]\n"
       ]
      }
     ],
     "prompt_number": 22
    },
    {
     "cell_type": "code",
     "collapsed": false,
     "input": [
      "new_list = [[2,4,9],[1,5,10],[3,5,7],[6,8,9],[1,2,6]]\n",
      "\n",
      "#print merge_lists(new_list[0],new_list[1])\n",
      "#print merge_lists(new_list[2],new_list[3])\n",
      "\n",
      "def merge_loop(L):\n",
      "    M = []\n",
      "    length = len(L)\n",
      "    bound = length/2\n",
      "    for i in range(bound):\n",
      "        M.append(merge_lists(L[2*i],L[2*i+1]))\n",
      "        #print M\n",
      "        #print L\n",
      "    if length%2 == 1:\n",
      "        M.append(L.pop(length-1))\n",
      "        #print M\n",
      "        #print L\n",
      "    del L\n",
      "    return M\n",
      "\n",
      "print merge_loop(new_list)"
     ],
     "language": "python",
     "metadata": {},
     "outputs": [
      {
       "output_type": "stream",
       "stream": "stdout",
       "text": [
        "[[1, 2, 4, 5, 9, 10], [3, 5, 6, 7, 8, 9], [1, 2, 6]]\n"
       ]
      }
     ],
     "prompt_number": 23
    },
    {
     "cell_type": "code",
     "collapsed": false,
     "input": [
      "sort_me = [5,7,3,43,5,16,93,128,2,35,21,436,3,234,123,21,3123,5,436,47]\n",
      "K = []\n",
      "\n",
      "for i in sort_me:\n",
      "    K.append([i])\n",
      "    \n",
      "print K\n",
      "\n",
      "#print merge_loop(K)"
     ],
     "language": "python",
     "metadata": {},
     "outputs": [
      {
       "output_type": "stream",
       "stream": "stdout",
       "text": [
        "[[5], [7], [3], [43], [5], [16], [93], [128], [2], [35], [21], [436], [3], [234], [123], [21], [3123], [5], [436], [47]]\n"
       ]
      }
     ],
     "prompt_number": 24
    },
    {
     "cell_type": "code",
     "collapsed": false,
     "input": [
      "def merge_function(L):\n",
      "    if len(L) == 1:\n",
      "        return L\n",
      "    else:\n",
      "        M = merge_loop(L)\n",
      "        return merge_function(M)\n",
      "\n",
      "print merge_function(K)"
     ],
     "language": "python",
     "metadata": {},
     "outputs": [
      {
       "output_type": "stream",
       "stream": "stdout",
       "text": [
        "[[2, 3, 3, 5, 5, 5, 7, 16, 21, 21, 35, 43, 47, 93, 123, 128, 234, 436, 436, 3123]]\n"
       ]
      }
     ],
     "prompt_number": 25
    },
    {
     "cell_type": "code",
     "collapsed": false,
     "input": [
      "list_1 = [3,6,0,12,345,2,56,21,45,7,23,7,124,8,53,546]\n",
      "list_2 = [[2],[14],[3]]\n",
      "\n",
      "def list_maker(L):\n",
      "\tK = []\n",
      "\tfor i in L:\n",
      "\t\tK.append([i])\n",
      "\treturn K\n",
      "\n",
      "def list_test(L):\n",
      "    if type(L[0])== type(list()):\n",
      "        return True\n",
      "    else:\n",
      "        return False\n",
      "\n",
      "def merge_thing(L):\n",
      "    M = []\n",
      "    if not list_test(L):\n",
      "        M = list_maker(L)\n",
      "    else:\n",
      "        M = L\n",
      "    K = merge_function(M)\n",
      "    return K[0]\n",
      "    \n",
      "print merge_thing(list_1)\n",
      "print merge_thing(list_2)"
     ],
     "language": "python",
     "metadata": {},
     "outputs": [
      {
       "output_type": "stream",
       "stream": "stdout",
       "text": [
        "[0, 2, 3, 6, 7, 7, 8, 12, 21, 23, 45, 53, 56, 124, 345, 546]\n",
        "[2, 3, 14]\n"
       ]
      }
     ],
     "prompt_number": 47
    },
    {
     "cell_type": "code",
     "collapsed": false,
     "input": [
      "def list_test(L):\n",
      "    if type(L[0])== type(list()):\n",
      "        return True\n",
      "    else:\n",
      "        return False\n",
      "\n",
      "list_test([[1],[5],[7]])"
     ],
     "language": "python",
     "metadata": {},
     "outputs": [
      {
       "output_type": "pyout",
       "prompt_number": 32,
       "text": [
        "True"
       ]
      }
     ],
     "prompt_number": 32
    },
    {
     "cell_type": "code",
     "collapsed": false,
     "input": [],
     "language": "python",
     "metadata": {},
     "outputs": []
    }
   ],
   "metadata": {}
  }
 ]
}