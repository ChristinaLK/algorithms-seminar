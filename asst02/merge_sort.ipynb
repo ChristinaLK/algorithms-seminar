{
 "metadata": {
  "name": "merge_sort"
 },
 "nbformat": 3,
 "nbformat_minor": 0,
 "worksheets": [
  {
   "cells": [
    {
     "cell_type": "code",
     "collapsed": false,
     "input": [
      "##merge two lists into one\n",
      "def merge_lists(A, B):\n",
      "    C = []\n",
      "    while A or B: \n",
      "        if not A:\n",
      "            C.append(B.pop(0))\n",
      "        elif not B:\n",
      "            C.append(A.pop(0))\n",
      "        elif A[0] <= B[0]:\n",
      "            C.append(A.pop(0))\n",
      "        else:\n",
      "            C.append(B.pop(0))\n",
      "    return C\n",
      "\n",
      "##loops through a list of lists (L), \n",
      "##merging 2 sublists at a time, via merge_lists (above)\n",
      "##outputs a new list (M) of the just merged sublists\n",
      "def merge_loop(L):\n",
      "    M = []\n",
      "    length = len(L)\n",
      "    bound = length/2\n",
      "    for i in range(bound):\n",
      "        M.append(merge_lists(L[2*i],L[2*i+1]))\n",
      "    if length%2 == 1:\n",
      "        M.append(L.pop(length-1))\n",
      "    del L\n",
      "    return M\n",
      "\t\n",
      "##recursive function that runs merge_loop until all sublists are combined\t\n",
      "def merge_recurse(L):\n",
      "    if len(L) == 1:\n",
      "        return L\n",
      "    else:\n",
      "        M = merge_loop(L)\n",
      "        return merge_recurse(M)\n",
      "\n",
      "##tests whether the list is the right kind or not\n",
      "def list_test(L):\n",
      "    if type(L[0])== type(list()):\n",
      "        return True\n",
      "    else:\n",
      "        return False\n",
      "    \n",
      "##makes the nested list I need to start sorting\n",
      "def list_maker(L):\n",
      "\tM = []\n",
      "\tfor i in L:\n",
      "\t\tM.append([i])\n",
      "\treturn M\n",
      "\n",
      "##merge_sort function, takes a list or list of lists as input, returns sorted list\n",
      "def merge_function(L):\n",
      "    M = []\n",
      "    if not list_test(L):\n",
      "        M = list_maker(L)\n",
      "    else:\n",
      "        M = L\n",
      "    K = merge_recurse(M)\n",
      "    return K[0]\n",
      "    \n",
      "list_1 = [3,6,0,12,345,2,56,21,45,7,23,7,124,8,53,546]\n",
      "print merge_function(list_1)"
     ],
     "language": "python",
     "metadata": {},
     "outputs": [
      {
       "output_type": "stream",
       "stream": "stdout",
       "text": [
        "[0, 2, 3, 6, 7, 7, 8, 12, 21, 23, 45, 53, 56, 124, 345, 546]\n"
       ]
      }
     ],
     "prompt_number": 3
    },
    {
     "cell_type": "code",
     "collapsed": false,
     "input": [],
     "language": "python",
     "metadata": {},
     "outputs": []
    }
   ],
   "metadata": {}
  }
 ]
}