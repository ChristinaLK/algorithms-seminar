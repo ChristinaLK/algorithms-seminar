{
 "metadata": {
  "name": "shell sort"
 },
 "nbformat": 3,
 "nbformat_minor": 0,
 "worksheets": [
  {
   "cells": [
    {
     "cell_type": "code",
     "collapsed": false,
     "input": [
      "##INSERTION_SORT\n",
      "##input: list \n",
      "##output: sorted list\n",
      "\n",
      "def insertion_sort(l):\n",
      "    new_list = [l[0]]  #list to \"insert\" into\n",
      "    for i in l[1:len(l)]:  #loop through elements of original list\n",
      "        for j in range(0, len(new_list)):  #run through all spaces in list so far\n",
      "            if i <= new_list[j]:      # once you find a place where the next number is bigger\n",
      "                new_list.insert(j,i)  #insert your current value + break\n",
      "                break\n",
      "            elif j==(len(new_list)-1):\n",
      "                new_list.append(i)\n",
      "    return new_list\n",
      "\n",
      "##SHELL_SORT, part 1\n",
      "##sort a list in \"shells\" of a certain size\n",
      "##input: positive list, a shell size\n",
      "##output: list\n",
      "\n",
      "def simple_shell_sort(l, num):\n",
      "    for i in range(num):\n",
      "        l[i:len(l):num] = insertion_sort(l[i:len(l):num])  #loops through sublist, doing insertion sort\n",
      "    return l\n",
      "\n",
      "##SHELL_SORT, part 2\n",
      "##sort a list based on a list of shells\n",
      "##input: list to be sorted (all positive), list of shells\n",
      "##which should be decreasing and have 1 as its last digit\n",
      "##there is a check to make sure the last number is 1\n",
      "##for decreasing, you're on your own.  \n",
      "\n",
      "def shell_sort(l, shells):\n",
      "    if shells[len(shells)-1] != 1:\n",
      "        shells.append(1)\n",
      "    for i in shells:\n",
      "        l = simple_shell_sort(l,i)\n",
      "    return l\n",
      "\n",
      "s = [9,8,7,6,5,4,3,2,1]\n",
      "sample = [6,2,4,7,8,2,3,6,7,3,4,9]\n",
      "\n",
      "print shell_sort(s,[3,1])\n",
      "print shell_sort(sample,[5,3])"
     ],
     "language": "python",
     "metadata": {},
     "outputs": [
      {
       "output_type": "stream",
       "stream": "stdout",
       "text": [
        "[1, 2, 3, 4, 5, 6, 7, 8, 9]\n",
        "[2, 2, 3, 3, 4, 4, 6, 6, 7, 7, 8, 9]\n"
       ]
      }
     ],
     "prompt_number": 2
    },
    {
     "cell_type": "code",
     "collapsed": false,
     "input": [
      "def count_insertion_sort(l):\n",
      "    counter = 0\n",
      "    new_list = [0]  \n",
      "    for i in l:  \n",
      "        if i > new_list[len(new_list)-1]:  \n",
      "            counter+=1\n",
      "            new_list.append(i)\n",
      "        else:                               \n",
      "            for j in range(0, len(new_list)):\n",
      "                counter+=1\n",
      "                if i <= new_list[j]:      \n",
      "                    new_list.insert(j,i)  \n",
      "                    break\n",
      "    return new_list[1:len(new_list)],counter\n",
      "\n",
      "\n",
      "def count_simple_shell_sort(l, num):\n",
      "    counter = 0\n",
      "    for i in range(num):\n",
      "        l[i:len(l):num] = count_insertion_sort(l[i:len(l):num])[0]\n",
      "        counter+=count_insertion_sort(l[i:len(l):num])[1]\n",
      "    return l, counter\n",
      "\n",
      "\n",
      "def count_shell_sort(l, shells):\n",
      "    counter=0\n",
      "    if shells[len(shells)-1] != 1:\n",
      "        shells.append(1)\n",
      "    for i in shells:\n",
      "        l = count_simple_shell_sort(l,i)[0]\n",
      "        counter+=count_simple_shell_sort(l,i)[1]\n",
      "    return l,counter\n",
      "\n",
      "\n",
      "s = [9,8,7,6,5,4,3,2,1]\n",
      "print count_shell_sort(s,[3,1])\n",
      "s = [9,8,7,6,5,4,3,2,1]\n",
      "print count_insertion_sort(s)\n",
      "\n",
      "sample = [6,2,4,7,8,2,3,6,7,3,4,9]\n",
      "print count_shell_sort(sample,[5,3])\n",
      "sample = [6,2,4,7,8,2,3,6,7,3,4,9]\n",
      "print count_insertion_sort(sample)\n",
      "\n",
      "t = [3,2,1,6,5,4,9,8,7]\n",
      "print count_shell_sort(t,[3,1])\n",
      "t = [3,2,1,6,5,4,9,8,7]\n",
      "print count_insertion_sort(t)"
     ],
     "language": "python",
     "metadata": {},
     "outputs": [
      {
       "output_type": "stream",
       "stream": "stdout",
       "text": [
        "([1, 2, 3, 4, 5, 6, 7, 8, 9], 18)\n",
        "([1, 2, 3, 4, 5, 6, 7, 8, 9], 17)\n",
        "([2, 2, 3, 3, 4, 4, 6, 6, 7, 7, 8, 9], 66)\n",
        "([2, 2, 3, 3, 4, 4, 6, 6, 7, 7, 8, 9], 39)\n",
        "([1, 2, 3, 4, 5, 6, 7, 8, 9], 18)\n",
        "([1, 2, 3, 4, 5, 6, 7, 8, 9], 33)\n"
       ]
      }
     ],
     "prompt_number": 35
    },
    {
     "cell_type": "code",
     "collapsed": false,
     "input": [
      "##QUASI-INSERTION_SORT\n",
      "##input: list (all positive)\n",
      "##output: sorted list\n",
      "\n",
      "def insertion_sort(l):\n",
      "    new_list = [0]  #list to \"insert\" into\n",
      "    for i in l:  #loop through elements of original list\n",
      "        if i > new_list[len(new_list)-1]:  #if object is larger than end of list, append\n",
      "            new_list.append(i)\n",
      "        else:                               #else, must insert elsewhere in the list\n",
      "            for j in range(0, len(new_list)):  #run through all spaces in list so far\n",
      "                if i <= new_list[j]:      # once you find a place where the next number is bigger\n",
      "                    new_list.insert(j,i)  #insert your current value + break\n",
      "                    break\n",
      "    return new_list[1:len(new_list)]"
     ],
     "language": "python",
     "metadata": {},
     "outputs": []
    }
   ],
   "metadata": {}
  }
 ]
}