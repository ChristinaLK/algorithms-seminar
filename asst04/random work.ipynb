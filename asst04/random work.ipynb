{
 "metadata": {
  "name": "random work"
 },
 "nbformat": 3,
 "nbformat_minor": 0,
 "worksheets": [
  {
   "cells": [
    {
     "cell_type": "code",
     "collapsed": false,
     "input": [
      "sample = [6,2,4,7,8,2,3,6,7,3,4,9]\n",
      "\n",
      "print sample[2:len(sample):5]"
     ],
     "language": "python",
     "metadata": {},
     "outputs": [
      {
       "output_type": "stream",
       "stream": "stdout",
       "text": [
        "[4, 6]\n"
       ]
      }
     ],
     "prompt_number": 1
    },
    {
     "cell_type": "code",
     "collapsed": false,
     "input": [
      "print sample[0:len(sample):5]\n",
      "print sorted(sample[0:len(sample):5])"
     ],
     "language": "python",
     "metadata": {},
     "outputs": [
      {
       "output_type": "stream",
       "stream": "stdout",
       "text": [
        "[6, 2, 4]\n",
        "[2, 4, 6]\n"
       ]
      }
     ],
     "prompt_number": 2
    },
    {
     "cell_type": "code",
     "collapsed": false,
     "input": [
      "sample[0:len(sample):5] = [1, 3, 5]\n",
      "print sample"
     ],
     "language": "python",
     "metadata": {},
     "outputs": [
      {
       "output_type": "stream",
       "stream": "stdout",
       "text": [
        "[1, 2, 4, 7, 8, 3, 3, 6, 7, 3, 5, 9]\n"
       ]
      }
     ],
     "prompt_number": 3
    },
    {
     "cell_type": "code",
     "collapsed": false,
     "input": [
      "##INSERTION_SORT\n",
      "##input: list (all positive)\n",
      "##output: sorted list\n",
      "\n",
      "def insertion_sort(l):\n",
      "    new_list = [0]  #list to \"insert\" into\n",
      "    for i in l:  #loop through elements of original list\n",
      "        if i > new_list[len(new_list)-1]:  #if object is larger than end of list, append\n",
      "            new_list.append(i)\n",
      "        else:                               #else, must insert elsewhere in the list\n",
      "            for j in range(0, len(new_list)):  #run through all spaces in list so far\n",
      "                if i <= new_list[j]:      # once you find a place where the next number is bigger\n",
      "                    new_list.insert(j,i)  #insert your current value + break\n",
      "                    break\n",
      "    return new_list[1:len(new_list)]\n",
      "\n",
      "sample2 = [6,3,5,2,8,3,3]\n",
      "\n",
      "insertion_sort(sample2)"
     ],
     "language": "python",
     "metadata": {},
     "outputs": [
      {
       "output_type": "pyout",
       "prompt_number": 4,
       "text": [
        "[2, 3, 3, 3, 5, 6, 8]"
       ]
      }
     ],
     "prompt_number": 4
    },
    {
     "cell_type": "code",
     "collapsed": false,
     "input": [
      " list.insert()?"
     ],
     "language": "python",
     "metadata": {},
     "outputs": [],
     "prompt_number": 5
    },
    {
     "cell_type": "code",
     "collapsed": false,
     "input": [
      "sample = [6,2,4,7,8,2,3,6,7,3,4,9]\n",
      "\n",
      "def insert_sort_in_place(l):\n",
      "    return_list = l\n",
      "    #sort in place\n",
      "    \n",
      "def gap_sort(l,i):\n",
      "    for j in range(i):\n",
      "        #generate list of indices\n",
      "        #insert sort on sublists\n",
      "    \n",
      "def shell_sort(l, shells):\n",
      "    shells = shells.sort(reverse=True)\n",
      "    return_list = l\n",
      "    for i in shells:\n",
      "        return_list = gap_sort(return_list,i)\n",
      "    return return_list\n",
      "\n",
      "shell_sort(sample, [5,3,1])"
     ],
     "language": "python",
     "metadata": {},
     "outputs": [
      {
       "ename": "IndentationError",
       "evalue": "expected an indented block (<ipython-input-6-5e2f29ea1267>, line 12)",
       "output_type": "pyerr",
       "traceback": [
        "\u001b[1;36m  File \u001b[1;32m\"<ipython-input-6-5e2f29ea1267>\"\u001b[1;36m, line \u001b[1;32m12\u001b[0m\n\u001b[1;33m    def shell_sort(l, shells):\u001b[0m\n\u001b[1;37m                              ^\u001b[0m\n\u001b[1;31mIndentationError\u001b[0m\u001b[1;31m:\u001b[0m expected an indented block\n"
       ]
      }
     ],
     "prompt_number": 6
    },
    {
     "cell_type": "code",
     "collapsed": false,
     "input": [
      "##INSERTION_SORT\n",
      "##input: list \n",
      "##output: sorted list\n",
      "\n",
      "def insertion_sort(l):\n",
      "    new_list = [l[0]]  #list to \"insert\" into\n",
      "    print new_list\n",
      "    for i in l[1:len(l)]:  #loop through elements of original list\n",
      "        print i\n",
      "        for j in range(0, len(new_list)):  #run through all spaces in list so far\n",
      "            if i <= new_list[j]:      # once you find a place where the next number is bigger\n",
      "                new_list.insert(j,i)  #insert your current value + break\n",
      "                break\n",
      "            elif j==(len(new_list)-1):\n",
      "                new_list.append(i)\n",
      "        print new_list\n",
      "    return new_list\n",
      "\n",
      "test = [3,-2,1,-6,-5,4,9,8,7]\n",
      "print insertion_sort(test)"
     ],
     "language": "python",
     "metadata": {},
     "outputs": [
      {
       "output_type": "stream",
       "stream": "stdout",
       "text": [
        "[3]\n",
        "-2\n",
        "[-2, 3]\n",
        "1\n",
        "[-2, 1, 3]\n",
        "-6\n",
        "[-6, -2, 1, 3]\n",
        "-5\n",
        "[-6, -5, -2, 1, 3]\n",
        "4\n",
        "[-6, -5, -2, 1, 3, 4]\n",
        "9\n",
        "[-6, -5, -2, 1, 3, 4, 9]\n",
        "8\n",
        "[-6, -5, -2, 1, 3, 4, 8, 9]\n",
        "7\n",
        "[-6, -5, -2, 1, 3, 4, 7, 8, 9]\n",
        "[-6, -5, -2, 1, 3, 4, 7, 8, 9]\n"
       ]
      }
     ],
     "prompt_number": 7
    },
    {
     "cell_type": "code",
     "collapsed": false,
     "input": [
      "def insertion_sort(l):\n",
      "    for i in range(0,len(l)): #loop \"n\" times (0...n-1)\n",
      "        temp = l.pop() #pop last element\n",
      "        for j in range(i+1):   #compare with up to previous k elements\n",
      "            if j == i:  #if we're at the end of k elements (biggest number so far), insert in kth position\n",
      "                l.insert(j,temp)\n",
      "                break\n",
      "            elif temp<=l[j]:  #otherwise (normal statement), insert in order\n",
      "                l.insert(j,temp)\n",
      "                break \n",
      "    return l"
     ],
     "language": "python",
     "metadata": {},
     "outputs": [],
     "prompt_number": 9
    },
    {
     "cell_type": "code",
     "collapsed": false,
     "input": [
      "def insertion_sort(l):\n",
      "    for i in range(0,len(l)): #loop \"n\" times (0...n-1)\n",
      "        temp = l.pop() #pop last element\n",
      "        for j in range(i+1):   #compare with up to previous k elements\n",
      "            if j == i:  #if we're at the end of k elements (biggest number so far), insert in kth position\n",
      "                l.insert(j,temp)\n",
      "                break\n",
      "            elif temp<=l[j]:  #otherwise (normal statement), insert in order\n",
      "                l.insert(j,temp)\n",
      "                break \n",
      "    return l"
     ],
     "language": "python",
     "metadata": {},
     "outputs": []
    }
   ],
   "metadata": {}
  }
 ]
}