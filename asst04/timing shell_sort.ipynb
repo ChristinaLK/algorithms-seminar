{
 "metadata": {
  "name": "timing shell_sort"
 },
 "nbformat": 3,
 "nbformat_minor": 0,
 "worksheets": [
  {
   "cells": [
    {
     "cell_type": "code",
     "collapsed": false,
     "input": [
      "##INSERTION_SORT\n",
      "##input: list \n",
      "##output: sorted list\n",
      "\n",
      "def insertion_sort(l):\n",
      "    for i in range(0,len(l)): #loop \"n\" times through list\n",
      "        temp = l.pop(i) #pop ith element\n",
      "        for j in range(i+1):   #compare with up to previous k elements\n",
      "            if j == i:  #if we're at the end of k elements (biggest number so far), insert in kth position\n",
      "                l.insert(j,temp)\n",
      "                break\n",
      "            elif temp<=l[j]:  #otherwise (normal statement), insert in order\n",
      "                l.insert(j,temp)\n",
      "                break \n",
      "    return l\n"
     ],
     "language": "python",
     "metadata": {},
     "outputs": [],
     "prompt_number": 2
    },
    {
     "cell_type": "code",
     "collapsed": false,
     "input": [
      "##SHELL_SORT, part 1\n",
      "##sort a list in \"shells\" of a certain size\n",
      "##input: positive list, a shell size\n",
      "##output: list, with sublists of index equiv mod(num) sorted in ascending order\n",
      "\n",
      "def simple_shell_sort(l, num):\n",
      "    for i in range(num):  #shell \"size\" (multiples of num)\n",
      "        l[i:len(l):num] = insertion_sort(l[i:len(l):num])  #loops through sublist, doing insertion sort\n",
      "    return l"
     ],
     "language": "python",
     "metadata": {},
     "outputs": [],
     "prompt_number": 3
    },
    {
     "cell_type": "code",
     "collapsed": false,
     "input": [
      "##SHELL_SORT, part 2\n",
      "##sort a list based on a list of shells\n",
      "##input: list to be sorted, list of shells\n",
      "##output: sorted list\n",
      "\n",
      "def shell_sort(l, shells):\n",
      "    #if shells[len(shells)-1] != 1:\n",
      "    #    shells.append(1)\n",
      "    for i in shells:\n",
      "        l = simple_shell_sort(l,i)\n",
      "    return l"
     ],
     "language": "python",
     "metadata": {},
     "outputs": [],
     "prompt_number": 4
    },
    {
     "cell_type": "code",
     "collapsed": false,
     "input": [
      "##AVERAGE_TIME,\n",
      "##calculates average time to sort a set of lists based on\n",
      "##input: set of lists to sort, desired shell-list\n",
      "##ouput: average time to sort the list\n",
      "\n",
      "import timeit\n",
      "\n",
      "def average_time(L, shells):\n",
      "    time = []\n",
      "    for l in L:\n",
      "        start = timeit.default_timer()\n",
      "        shell_sort(l, shells)\n",
      "        end = timeit.default_timer()\n",
      "        time.append(end-start)\n",
      "    return sum(time)/len(time)"
     ],
     "language": "python",
     "metadata": {},
     "outputs": [],
     "prompt_number": 5
    },
    {
     "cell_type": "code",
     "collapsed": false,
     "input": [
      "##COMPARE_TIMES,\n",
      "##makes lists of average sorting time for various shell-lists\n",
      "##input: number of \"trials\" to average time over, list of shell-lists to compare, upper bound of list length\n",
      "##output: list of lengths tried, and times taken\n",
      "\n",
      "from random import randint\n",
      "\n",
      "def compare_times(num, shell_lists, upper_bound):\n",
      "    ##create lists for plotting: length_list is x, time_list has a list of y-values for each shell\n",
      "    length_list = []\n",
      "    time_list = []\n",
      "    for k in range(len(shell_lists)):\n",
      "        time_list.append([])\n",
      "\n",
      "    ##loop through list lengths\n",
      "    for i in range(10,upper_bound+1,10):\n",
      "        length_list.append(i)\n",
      "        #make lists of lists to sort\n",
      "        L = []\n",
      "        for j in range(num):\n",
      "            L.append([randint(1,1000) for num in range(i)]) #this needs to be random\n",
      "        #loop through shells, testing time for each option\n",
      "        for shell in shell_lists:\n",
      "            time_list[shell_lists.index(shell)].append(average_time(L,shell))\n",
      "    \n",
      "    return (length_list, time_list)\n",
      "        \n",
      "#compare_times(2,[[5,2,1],[1]],50)\n"
     ],
     "language": "python",
     "metadata": {},
     "outputs": [],
     "prompt_number": 6
    },
    {
     "cell_type": "code",
     "collapsed": false,
     "input": [
      "##PLOT_COMPARISONS\n",
      "##plot the differing amounts of time\n",
      "##input: same variables as compare_times\n",
      "##output: null, displays line graph\n",
      "\n",
      "import matplotlib.pyplot as plt\n",
      "import numpy as np\n",
      "\n",
      "def plot_comparisons(num, shells, u):\n",
      "    #run timing function\n",
      "    values = compare_times(num, shells, u)\n",
      "    \n",
      "    #plot points\n",
      "    for i in range(len(shells)):\n",
      "        plt.plot(values[0],values[1][i], label=shells[i], linewidth=1)\n",
      "    #make legend\n",
      "    plt.legend()\n",
      "    \n",
      "    plt.show()\n",
      "\n",
      "plot_comparisons(3,[[200,100,1],[1]], 300)"
     ],
     "language": "python",
     "metadata": {},
     "outputs": [],
     "prompt_number": 7
    },
    {
     "cell_type": "code",
     "collapsed": false,
     "input": [
      "s = [9,8,7,6,5,4,3,2,1]\n",
      "sample = [6,2,4,7,8,2,3,6,7,3,4,9]\n",
      "\n",
      "print shell_sort(s,[3,1])\n",
      "print shell_sort(sample,[5,3,1])"
     ],
     "language": "python",
     "metadata": {},
     "outputs": [
      {
       "output_type": "stream",
       "stream": "stdout",
       "text": [
        "[1, 2, 3, 4, 5, 6, 7, 8, 9]\n",
        "[2, 2, 3, 3, 4, 4, 6, 6, 7, 7, 8, 9]\n"
       ]
      }
     ],
     "prompt_number": 8
    },
    {
     "cell_type": "code",
     "collapsed": false,
     "input": [
      " "
     ],
     "language": "python",
     "metadata": {},
     "outputs": [],
     "prompt_number": 8
    },
    {
     "cell_type": "code",
     "collapsed": false,
     "input": [],
     "language": "python",
     "metadata": {},
     "outputs": [],
     "prompt_number": 8
    }
   ],
   "metadata": {}
  }
 ]
}