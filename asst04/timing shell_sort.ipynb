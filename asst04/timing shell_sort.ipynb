{
 "metadata": {
  "name": "timing shell_sort"
 },
 "nbformat": 3,
 "nbformat_minor": 0,
 "worksheets": [
  {
   "cells": [
    {
     "cell_type": "code",
     "collapsed": false,
     "input": [
      "##INSERTION_SORT\n",
      "##input: list \n",
      "##output: sorted list\n",
      "##with some help from Tyler's code.  :P\n",
      "\n",
      "def insertion_sort(l):\n",
      "    for i in range(len(l)):  #loop through list\n",
      "        temp = l[i]  #choose ith element\n",
      "        j = i-1  #choose previous element\n",
      "        while j>=0 and l[j]>temp:  #as long as previous element is greater than ith element\n",
      "            l[j+1] = l[j]  #swap \"ith\" and previous element\n",
      "            j = j-1  #decrement counter\n",
      "        l[j+1] = temp  #if loop breaks, put ith element in empty spot\n",
      "    return l"
     ],
     "language": "python",
     "metadata": {},
     "outputs": [],
     "prompt_number": 2
    },
    {
     "cell_type": "code",
     "collapsed": false,
     "input": [
      "##SHELL_SORT, part 1\n",
      "##sort a list in \"shells\" of a certain size\n",
      "##input: positive list, a shell size\n",
      "##output: list\n",
      "\n",
      "def simple_shell_sort(l, num):\n",
      "    for i in range(num):\n",
      "        l[i:len(l):num] = insertion_sort(l[i:len(l):num])  #loops through sublist, doing insertion sort\n",
      "    return l"
     ],
     "language": "python",
     "metadata": {},
     "outputs": [],
     "prompt_number": 3
    },
    {
     "cell_type": "code",
     "collapsed": false,
     "input": [
      "##SHELL_SORT, part 2\n",
      "##sort a list based on a list of shells\n",
      "##input: list to be sorted (all positive), list of shells\n",
      "##which should be decreasing and have 1 as its last digit\n",
      "##there is a check to make sure the last number is 1\n",
      "##for decreasing, you're on your own.  \n",
      "\n",
      "def shell_sort(l, shells):\n",
      "    if shells[len(shells)-1] != 1:\n",
      "        shells.append(1)\n",
      "    for i in shells:\n",
      "        l = simple_shell_sort(l,i)\n",
      "    return l"
     ],
     "language": "python",
     "metadata": {},
     "outputs": [],
     "prompt_number": 4
    },
    {
     "cell_type": "code",
     "collapsed": false,
     "input": [
      "##GAP_SORT\n",
      "##Basically Tyler's code\n",
      "##input: list to be sorted, list of gap sizes\n",
      "##output: sorted list\n",
      "\n",
      "def gap_sort(l,gaps):\n",
      "    for gap in gaps:\n",
      "        for i in range(len(l))[gap:]:  #loop through list\n",
      "            temp = l[i]  #choose ith element\n",
      "            j = i-gap  #choose previous element\n",
      "            while j>=0 and l[j]>temp:  #as long as previous element is greater than ith element\n",
      "                l[j+gap] = l[j]  #swap \"ith\" and previous element\n",
      "                j = j-gap  #decrement counter\n",
      "            l[j+gap] = temp  #if loop breaks, put ith element in empty spot\n",
      "    return l\n",
      "\n",
      "gap_sort([234,35,326,7,8,3,47,57,2,745],[4,1])"
     ],
     "language": "python",
     "metadata": {},
     "outputs": [
      {
       "output_type": "pyout",
       "prompt_number": 10,
       "text": [
        "[2, 3, 7, 8, 35, 47, 57, 234, 326, 745]"
       ]
      }
     ],
     "prompt_number": 10
    },
    {
     "cell_type": "code",
     "collapsed": false,
     "input": [
      "##AVERAGE_TIME,\n",
      "##calculates average time to sort a set of lists based on\n",
      "##input: set of lists to sort, desired shell-list\n",
      "##ouput: average time to sort the list\n",
      "\n",
      "import timeit\n",
      "\n",
      "def average_time(L, shells):\n",
      "    time = []\n",
      "    for l in L:\n",
      "        start = timeit.default_timer()\n",
      "        shell_sort(l, shells)   ##can use gap_sort here instead\n",
      "        end = timeit.default_timer()\n",
      "        time.append(end-start)\n",
      "    return sum(time)/len(time)"
     ],
     "language": "python",
     "metadata": {},
     "outputs": [],
     "prompt_number": 39
    },
    {
     "cell_type": "code",
     "collapsed": false,
     "input": [
      "##COMPARE_TIMES,\n",
      "##makes lists of average sorting time for various shell-lists\n",
      "##input: number of \"trials\" to average time over, list of shell-lists to compare, upper bound of list length, spacing of list length\n",
      "##output: list of lengths tried, and times taken\n",
      "\n",
      "from random import randint\n",
      "import copy\n",
      "\n",
      "def compare_times(num, shell_lists, upper_bound, spacing):\n",
      "    ##create lists for plotting: length_list is x, time_list has a list of y-values for each shell\n",
      "    length_list = []\n",
      "    time_list = []\n",
      "    for k in range(len(shell_lists)):\n",
      "        time_list.append([])\n",
      "\n",
      "    ##loop through list lengths\n",
      "    for i in range(spacing,upper_bound+1,spacing):\n",
      "        length_list.append(i)\n",
      "        #make lists of lists to sort\n",
      "        L = []\n",
      "        for j in range(num):\n",
      "            L.append([randint(1,1000) for num in range(i)]) #this needs to be random\n",
      "        #loop through shells, testing time for each option\n",
      "        for shell in shell_lists:\n",
      "            DC = copy.deepcopy(L)\n",
      "            time_list[shell_lists.index(shell)].append(average_time(DC,shell))\n",
      "    return (length_list, time_list)\n",
      "        \n",
      "#compare_times(2,[[1],[5,2,1]],40)\n"
     ],
     "language": "python",
     "metadata": {},
     "outputs": [],
     "prompt_number": 40
    },
    {
     "cell_type": "code",
     "collapsed": false,
     "input": [
      "##PLOT_COMPARISONS\n",
      "##plot the differing amounts of time\n",
      "##input: same variables as compare_times\n",
      "##output: null, displays line graph\n",
      "\n",
      "import matplotlib.pyplot as plt\n",
      "import numpy as np\n",
      "\n",
      "def plot_comparisons(num, shells, upper, space):\n",
      "    #run timing function\n",
      "    values = compare_times(num, shells, upper, space)\n",
      "    \n",
      "    #plot points\n",
      "    for i in range(len(shells)):\n",
      "        plt.plot(values[0],values[1][i], label=shells[i], linewidth=1)\n",
      "    #make legend\n",
      "    plt.legend()\n",
      "    \n",
      "    plt.show()\n",
      "\n",
      "plot_comparisons(3,[[10,5,1],[10,1],[10,7,5,1]], 200, 10)"
     ],
     "language": "python",
     "metadata": {},
     "outputs": [],
     "prompt_number": 43
    },
    {
     "cell_type": "code",
     "collapsed": false,
     "input": [],
     "language": "python",
     "metadata": {},
     "outputs": [
      {
       "output_type": "stream",
       "stream": "stdout",
       "text": [
        "[1, 2, 3, 4, 5, 6, 7, 8, 9]\n",
        "[2, 2, 3, 3, 4, 4, 6, 6, 7, 7, 8, 9]\n"
       ]
      }
     ],
     "prompt_number": 8
    },
    {
     "cell_type": "code",
     "collapsed": false,
     "input": [
      " "
     ],
     "language": "python",
     "metadata": {},
     "outputs": [],
     "prompt_number": 8
    },
    {
     "cell_type": "code",
     "collapsed": false,
     "input": [],
     "language": "python",
     "metadata": {},
     "outputs": [],
     "prompt_number": 8
    }
   ],
   "metadata": {}
  }
 ]
}