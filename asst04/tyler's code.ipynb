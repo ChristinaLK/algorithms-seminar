{
 "metadata": {
  "name": "tyler's code"
 },
 "nbformat": 3,
 "nbformat_minor": 0,
 "worksheets": [
  {
   "cells": [
    {
     "cell_type": "code",
     "collapsed": false,
     "input": [
      "# Define shell sort for a given gap sequence. Assume gap sequence is decreasing.\n",
      "def shell_sort(my_list):\n",
      "    for i in range(len(my_list)):\n",
      "        to_sort = my_list[i]\n",
      "        j = i-1\n",
      "        while j>=0 and my_list[j]>to_sort:\n",
      "            my_list[j+1] = my_list[j]\n",
      "            j = j-1\n",
      "        my_list[j+1] = to_sort\n",
      "    return my_list\n",
      "\n",
      "shell_sort([5,7,9,2,3])"
     ],
     "language": "python",
     "metadata": {},
     "outputs": [
      {
       "output_type": "pyout",
       "prompt_number": 3,
       "text": [
        "[2, 3, 5, 7, 9]"
       ]
      }
     ],
     "prompt_number": 3
    },
    {
     "cell_type": "markdown",
     "metadata": {},
     "source": [
      "[5,7,9,2,3]\n",
      "\n",
      "start with \n",
      "0,1,2,3,4...n\n",
      "choose i = 0\n",
      "to_sort = 5\n",
      "1 = next index away\n",
      "while 1 > 0 and 7 > 5\n",
      "    move 9 to 7\n",
      "    j = 0"
     ]
    }
   ],
   "metadata": {}
  }
 ]
}