{
 "metadata": {
  "name": "BST_rebalance"
 },
 "nbformat": 3,
 "nbformat_minor": 0,
 "worksheets": [
  {
   "cells": [
    {
     "cell_type": "markdown",
     "metadata": {},
     "source": [
      "Define a class node (attributes: key, left, right, parent) \n",
      "and a class tree (attribute: root, methods: insert, max, predecessor, delete)."
     ]
    },
    {
     "cell_type": "code",
     "collapsed": false,
     "input": [
      "##nodes for use in a binary search tree\n",
      "##two attributes: a value and a pointer\n",
      "##get/set functions for each attribute\n",
      "##print_method that prints out a node\n",
      "\n",
      "class node:\n",
      "    def __init__(self, value, parent = None, left = None, right = None):\n",
      "        self.key = value\n",
      "        self.parent = None\n",
      "        self.left = None\n",
      "        self.right = None\n",
      "        self.lcount = 0\n",
      "        self.rcount = 0\n",
      "        if parent is not None:\n",
      "            self.parent = parent\n",
      "        if parent is not None:\n",
      "            self.left = left\n",
      "        if parent is not None:\n",
      "            self.right = right\n",
      "\n",
      "    def print_method(self):\n",
      "        print \"Node value is: \"+str(self.key)\n",
      "        print \"Parent value is: \"+str(self.parent)\n",
      "        print \"Left child value is: \"+str(self.left)\n",
      "        print \"Right child value is: \"+str(self.right)"
     ],
     "language": "python",
     "metadata": {},
     "outputs": [],
     "prompt_number": 2
    },
    {
     "cell_type": "code",
     "collapsed": false,
     "input": [
      "root = node(10)\n",
      "branch = node(9,root)\n",
      "root.left = branch\n",
      "child = node(11)\n",
      "child.parent = root\n",
      "root.right = child\n",
      "\n",
      "root.print_method()\n",
      "branch.print_method()\n",
      "child.print_method()"
     ],
     "language": "python",
     "metadata": {},
     "outputs": [
      {
       "output_type": "stream",
       "stream": "stdout",
       "text": [
        "Node value is: 10\n",
        "Parent value is: None\n",
        "Left child value is: <__main__.node instance at 0x0000000004F529C8>\n",
        "Right child value is: <__main__.node instance at 0x0000000004F52A08>\n",
        "Node value is: 9\n",
        "Parent value is: <__main__.node instance at 0x0000000004F52988>\n",
        "Left child value is: None\n",
        "Right child value is: None\n",
        "Node value is: 11\n",
        "Parent value is: <__main__.node instance at 0x0000000004F52988>\n",
        "Left child value is: None\n",
        "Right child value is: None\n"
       ]
      }
     ],
     "prompt_number": 3
    },
    {
     "cell_type": "code",
     "collapsed": false,
     "input": [
      "class bstree:\n",
      "    def __init__(self, val):\n",
      "        self.root = node(val)\n",
      "    \n",
      "    def print_sorted(self, node):\n",
      "        x = node\n",
      "        if x!= None:\n",
      "            self.print_sorted(x.left)\n",
      "            print x.key\n",
      "            self.print_sorted(x.right)\n",
      "    \n",
      "    def find(self, val):\n",
      "        x = self.root\n",
      "        found = False\n",
      "        while not found:\n",
      "            if x.key == val:\n",
      "                found = True\n",
      "                return x\n",
      "            elif x == None:\n",
      "                found = True\n",
      "                return \"value not found\"\n",
      "            else:\n",
      "                if x.key < val:\n",
      "                    x = x.right\n",
      "                else:\n",
      "                    x = x.left\n",
      "    \n",
      "    def maximum(self, node):\n",
      "        x = node\n",
      "        y = node\n",
      "        while x != None:\n",
      "            y = x\n",
      "            x = x.right\n",
      "        return y.key\n",
      "    \n",
      "    def minimum(self, node):\n",
      "        x = node\n",
      "        y = node\n",
      "        while x != None:\n",
      "            y = x\n",
      "            x = x.left\n",
      "        return y.key\n",
      "\n",
      "    \n",
      "    #def predecessor(self, node)\n",
      "    \n",
      "    def successor(self, val):\n",
      "        x = self.find(val)\n",
      "        if x.right:\n",
      "            return self.minimum(x.right)\n",
      "        else:\n",
      "            while x.parent.left != x:\n",
      "                x = x.parent\n",
      "            return x.parent\n",
      "                \n",
      "    \n",
      "    def insert(self, val):\n",
      "        y = self.root\n",
      "        x = self.root\n",
      "        right = True\n",
      "        while x != None:\n",
      "            y = x\n",
      "            if x.key <= val:\n",
      "                x = x.right\n",
      "                right = True\n",
      "            else:\n",
      "                x = x.left\n",
      "                right = False\n",
      "        if right:\n",
      "            y.right = node(val, y)\n",
      "            y.rcount+=1\n",
      "        else:\n",
      "            y.left = node(val, y)\n",
      "            y.lcount+=1\n",
      "        \n",
      "    #def delete(self, node):\n",
      "        \n",
      "    "
     ],
     "language": "python",
     "metadata": {},
     "outputs": [],
     "prompt_number": 13
    },
    {
     "cell_type": "code",
     "collapsed": false,
     "input": [
      "new_tree = bstree(15)\n",
      "new_tree.insert(10)\n",
      "new_tree.insert(16)\n",
      "new_tree.insert(12)\n",
      "new_tree.insert(11)\n",
      "new_tree.insert(24)\n",
      "new_tree.insert(4)\n",
      "\n",
      "new_tree.print_sorted(new_tree.root)\n",
      "print \" \"\n",
      "\n",
      "print new_tree.maximum(new_tree.root)\n",
      "print \" \"\n",
      "\n",
      "print new_tree.minimum(new_tree.root)\n",
      "print \" \"\n",
      "\n",
      "print new_tree.maximum(new_tree.root.left)"
     ],
     "language": "python",
     "metadata": {},
     "outputs": [
      {
       "output_type": "stream",
       "stream": "stdout",
       "text": [
        "4\n",
        "10\n",
        "11\n",
        "12\n",
        "15\n",
        "16\n",
        "24\n",
        " \n",
        "24\n",
        " \n",
        "4\n",
        " \n",
        "12\n"
       ]
      }
     ],
     "prompt_number": 10
    },
    {
     "cell_type": "code",
     "collapsed": false,
     "input": [
      "def tree_builder(L):     \n",
      "    T = bstree(L[0])\n",
      "    if len(L) > 1:\n",
      "        for l in L[1:]:\n",
      "            T.insert(l)\n",
      "    return T"
     ],
     "language": "python",
     "metadata": {},
     "outputs": [],
     "prompt_number": 7
    },
    {
     "cell_type": "code",
     "collapsed": false,
     "input": [
      "sample = tree_builder([5,13,7,8,4,2,15,3])\n",
      "\n",
      "sample.print_sorted(sample.root)\n",
      "\n",
      "print \" \"\n",
      "print 5\n",
      "\n",
      "sample.successor(5)"
     ],
     "language": "python",
     "metadata": {},
     "outputs": [
      {
       "output_type": "stream",
       "stream": "stdout",
       "text": [
        "2\n",
        "3\n",
        "4\n",
        "5\n",
        "7\n",
        "8\n",
        "13\n",
        "15\n",
        " \n",
        "5\n"
       ]
      },
      {
       "output_type": "pyout",
       "prompt_number": 14,
       "text": [
        "7"
       ]
      }
     ],
     "prompt_number": 14
    },
    {
     "cell_type": "code",
     "collapsed": false,
     "input": [],
     "language": "python",
     "metadata": {},
     "outputs": [],
     "prompt_number": 8
    }
   ],
   "metadata": {}
  }
 ]
}