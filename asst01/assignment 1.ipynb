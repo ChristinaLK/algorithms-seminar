{
 "metadata": {
  "name": "assignment 1"
 },
 "nbformat": 3,
 "nbformat_minor": 0,
 "worksheets": [
  {
   "cells": [
    {
     "cell_type": "code",
     "collapsed": false,
     "input": [
      "#takes a line, evaluates whether it is a question, returns boolean\n",
      "def question_test(myline):\n",
      "    is_question = 'Question' in myline\n",
      "    return is_question"
     ],
     "language": "python",
     "metadata": {},
     "outputs": [],
     "prompt_number": 2
    },
    {
     "cell_type": "code",
     "collapsed": false,
     "input": [
      "#extracts the average time from a line and turns it into an integer.\n",
      "def get_time(myline):\n",
      "    time = myline.split(',')[4].replace(':','')\n",
      "    return int(time)\n",
      "\n",
      "test_string=\"/Science:Math_Exam_Resources/Courses/MATH110/December_2011/Question_06,194,164,107,00:05:38,10.78,02:18:03\"\n",
      "\n",
      "get_time(test_string)"
     ],
     "language": "python",
     "metadata": {},
     "outputs": [
      {
       "output_type": "pyout",
       "prompt_number": 3,
       "text": [
        "538"
       ]
      }
     ],
     "prompt_number": 3
    },
    {
     "cell_type": "code",
     "collapsed": false,
     "input": [
      "#extracts the question title from a line and strips the preamble\n",
      "def get_question(myline):\n",
      "    question = myline.split(',')[0].replace('/Science:Math_Exam_Resources/Courses/','')\n",
      "    return question\n",
      "\n",
      "test_string=\"/Science:Math_Exam_Resources/Courses/MATH110/December_2011/Question_06,194,164,107,00:05:38,10.78,02:18:03\"\n",
      "\n",
      "get_question(test_string)"
     ],
     "language": "python",
     "metadata": {},
     "outputs": [
      {
       "output_type": "pyout",
       "prompt_number": 4,
       "text": [
        "'MATH110/December_2011/Question_06'"
       ]
      }
     ],
     "prompt_number": 4
    },
    {
     "cell_type": "code",
     "collapsed": false,
     "input": [
      "#create a dictionary of question names (values) + associated average times (keys)\n",
      "directory = dict()\n",
      "\n",
      "test_string=\"/Science:Math_Exam_Resources/Courses/MATH110/December_2011/Question_06,194,164,107,00:05:38,10.78,02:18:03\"\n",
      "test1=\"/Science:Math_Exam_Resources/Courses/MATH104/December_2011/Question_1_(a),1866,1666,1262,00:02:19,12.28,88:26:03\"\n",
      "test2=\"/Science:Math_Exam_Resources/Courses/MATH104/December_2011/Question_6_(b),1830,1420,1060,00:04:07,20.33,30:24:47\"\n",
      "test3=\"/Science:Math_Exam_Resources/Courses/MATH104/December_2011/Question_3,1821,1625,1160,00:07:12,7.23,68:52:49\"\n",
      "\n",
      "directory[get_time(test_string)] = get_question(test_string)\n",
      "directory[get_time(test1)] = get_question(test1)\n",
      "directory[get_time(test2)] = get_question(test2)\n",
      "directory[get_time(test3)] = get_question(test3)\n",
      "\n",
      "#sort dictionary by times(keys) in reverse, choosing 2 highest\n",
      "sorted(directory, reverse=True)[0:2]"
     ],
     "language": "python",
     "metadata": {},
     "outputs": [
      {
       "output_type": "pyout",
       "prompt_number": 5,
       "text": [
        "[712, 538]"
       ]
      }
     ],
     "prompt_number": 5
    },
    {
     "cell_type": "code",
     "collapsed": false,
     "input": [
      "#print key + value combo from dictionary, restoring \"time\" to integer\n",
      "\n",
      "for key_val in sorted(directory, reverse=True)[0:3]:\n",
      "    time_print = str(key_val)\n",
      "    print directory[key_val] + ' ' + time_print[0]+':'+time_print[1:3]\n"
     ],
     "language": "python",
     "metadata": {},
     "outputs": [
      {
       "output_type": "stream",
       "stream": "stdout",
       "text": [
        "MATH104/December_2011/Question_3 7:12\n",
        "MATH110/December_2011/Question_06 5:38\n",
        "MATH104/December_2011/Question_6_(b) 4:07\n"
       ]
      }
     ],
     "prompt_number": 8
    },
    {
     "cell_type": "code",
     "collapsed": false,
     "input": [
      "average_time = dict()\n",
      "f = open('Analytics_Fall2012.csv','r')\n",
      "for line in f:\n",
      "    if question_test(line):\n",
      "        average_time[get_time(line)] = get_question(line)\n",
      "        #put dictionary stuff here\n",
      "f.close()\n",
      "\n",
      "for key_val in sorted(average_time, reverse=True)[0:10]:\n",
      "    time_print = str(key_val)\n",
      "    print average_time[key_val] + '   ' + time_print[0]+':'+time_print[1:3]"
     ],
     "language": "python",
     "metadata": {},
     "outputs": [
      {
       "output_type": "stream",
       "stream": "stdout",
       "text": [
        "MATH104/December_2011/Question_3   7:12\n",
        "MATH104/December_2010/Question_6   7:08\n",
        "MATH104/December_2011/Question_4   7:04\n",
        "MATH102/December_2011/Question_3   6:17\n",
        "MATH104/December_2010/Question_4   6:07\n",
        "MATH104/December_2011/Question_1_(e)   5:55\n",
        "MATH104/December_2010/Question_5   5:51\n",
        "MATH110/December_2011/Question_06   5:38\n",
        "MATH102/December_2011/Question_5   5:11\n",
        "MATH102/December_2011/Question_1_(b)_iii   5:05\n"
       ]
      }
     ],
     "prompt_number": 9
    },
    {
     "cell_type": "code",
     "collapsed": false,
     "input": [],
     "language": "python",
     "metadata": {},
     "outputs": [],
     "prompt_number": 7
    }
   ],
   "metadata": {}
  }
 ]
}