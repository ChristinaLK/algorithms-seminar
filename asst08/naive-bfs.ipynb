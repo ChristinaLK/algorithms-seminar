{
 "metadata": {
  "name": ""
 },
 "nbformat": 3,
 "nbformat_minor": 0,
 "worksheets": [
  {
   "cells": [
    {
     "cell_type": "code",
     "collapsed": false,
     "input": [
      "class vertex:\n",
      "    def __init__(self, num):\n",
      "        '''initializes an instance of vertex class'''\n",
      "        self.num = num\n",
      "        self.edges = []\n",
      "        self.parent = None\n",
      "        self.kids = []\n",
      "        self.distance = None\n",
      "        self.color = 0\n",
      "    \n",
      "    def __str__(self):\n",
      "        '''returns a string listing all attributes of the vertex'''\n",
      "        parent_string, color_string = \"None\", \" \"\n",
      "        if self.parent != None:\n",
      "            parent_string = str(self.parent)\n",
      "        if self.color == 0:\n",
      "            color_string = \"White\"\n",
      "        elif self.color == 1:\n",
      "            color_string == \"Grey\"\n",
      "        else: \n",
      "            color_string = \"Black\"\n",
      "        return \"Vertex: \"+str(self.num)+\"\\nEdges: \"+str(self.edges)+\"\\nParent: \"+parent_string+\"\\nKids: \"+str(self.kids)+\"\\nDistance: \"+str(self.distance)#+\" Color: \"+color_string"
     ],
     "language": "python",
     "metadata": {},
     "outputs": [],
     "prompt_number": 35
    },
    {
     "cell_type": "code",
     "collapsed": false,
     "input": [
      "def graph_builder(size, edge_list):\n",
      "    '''Given an integer input and a list of tuples, builds an unweighted, undirected graph'''\n",
      "    graph = []\n",
      "    for i in range(size+1):\n",
      "        graph.append(vertex(i))\n",
      "    for e in edge_list:\n",
      "        start = e[0]\n",
      "        end = e[1]\n",
      "        graph[start].edges.append(end)\n",
      "        graph[end].edges.append(start)\n",
      "    return graph\n",
      "    \n",
      "def graph_print(graph):\n",
      "    return_string = \" \"\n",
      "    for v in graph[1:]:\n",
      "        return_string = return_string+v.__str__()+' \\n '\n",
      "    return return_string"
     ],
     "language": "python",
     "metadata": {},
     "outputs": [],
     "prompt_number": 36
    },
    {
     "cell_type": "code",
     "collapsed": false,
     "input": [
      "def breadth_first_search(graph, source):\n",
      "    graph[source].distance = 0\n",
      "    graph[source].color = 1\n",
      "    queue = []\n",
      "    queue.append(source)\n",
      "    while len(queue) != 0:\n",
      "        #print queue\n",
      "        v = queue.pop(0)\n",
      "        for e in graph[v].edges:\n",
      "            if graph[e].color == 0:\n",
      "                graph[e].color = 1\n",
      "                graph[e].parent = v\n",
      "                graph[v].kids.append(e)\n",
      "                graph[e].distance = graph[v].distance + 1\n",
      "                queue.append(e)\n",
      "        graph[v].color = 2  "
     ],
     "language": "python",
     "metadata": {},
     "outputs": [],
     "prompt_number": 37
    },
    {
     "cell_type": "code",
     "collapsed": false,
     "input": [
      "sample_edges = [ (1,2), (1,3), (2,4), (3,4), (3,5), (3,7), (4,5), (4,6)]\n",
      "\n",
      "sample_graph = graph_builder(7, sample_edges)\n",
      "#print graph_print(sample_graph)\n",
      "\n",
      "breadth_first_search(sample_graph, 2)\n",
      "\n",
      "#print graph_print(sample_graph)"
     ],
     "language": "python",
     "metadata": {},
     "outputs": [],
     "prompt_number": 57
    },
    {
     "cell_type": "code",
     "collapsed": false,
     "input": [
      "import numpy as np\n",
      "import matplotlib.pyplot as plt"
     ],
     "language": "python",
     "metadata": {},
     "outputs": [],
     "prompt_number": 53
    },
    {
     "cell_type": "code",
     "collapsed": false,
     "input": [
      "%pylab inline"
     ],
     "language": "python",
     "metadata": {},
     "outputs": [
      {
       "output_type": "stream",
       "stream": "stdout",
       "text": [
        "Populating the interactive namespace from numpy and matplotlib\n"
       ]
      }
     ],
     "prompt_number": 54
    },
    {
     "cell_type": "code",
     "collapsed": false,
     "input": [
      "def treeplot(graph, source):\n",
      "    fig, ax = plt.subplots()\n",
      "    axx = float(4)\n",
      "    axy = float(4)\n",
      "    plt.axis('off')\n",
      " \n",
      "    \n",
      "    def plotchildren(vertex,distance,xparent,yparent):\n",
      "        item = str(vertex.num)\n",
      "        ax.text(xparent,yparent, item, fontsize=15)\n",
      "        #num_kids = len(vertex.kids)\n",
      "        xkid = xparent\n",
      "        ykid = yparent - 0.4\n",
      "        for k in vertex.kids:\n",
      "            xkid = xkid + axx/2**distance\n",
      "            plotchildren(graph[k],graph[k].distance,xkid,ykid)\n",
      "            ax.plot([xparent,xkid],[yparent,ykid],color='blue')\n",
      "        \n",
      "    number = 1\n",
      "    xparent = axx/2\n",
      "    yparent = axy\n",
      "    plotchildren(graph[source],graph[source].distance,xparent,yparent)"
     ],
     "language": "python",
     "metadata": {},
     "outputs": [],
     "prompt_number": 55
    },
    {
     "cell_type": "code",
     "collapsed": false,
     "input": [
      "treeplot(sample_graph, 2)"
     ],
     "language": "python",
     "metadata": {},
     "outputs": [
      {
       "metadata": {},
       "output_type": "display_data",
       "png": "[encoded data removed]",
       "text": [
        "<matplotlib.figure.Figure at 0x8b78da0>"
       ]
      }
     ],
     "prompt_number": 59
    },
    {
     "cell_type": "code",
     "collapsed": false,
     "input": [],
     "language": "python",
     "metadata": {},
     "outputs": [],
     "prompt_number": 59
    },
    {
     "cell_type": "code",
     "collapsed": false,
     "input": [],
     "language": "python",
     "metadata": {},
     "outputs": []
    }
   ],
   "metadata": {}
  }
 ]
}