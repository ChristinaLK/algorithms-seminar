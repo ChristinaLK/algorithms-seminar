{
 "metadata": {
  "name": ""
 },
 "nbformat": 3,
 "nbformat_minor": 0,
 "worksheets": [
  {
   "cells": [
    {
     "cell_type": "code",
     "collapsed": false,
     "input": [
      "class edge:\n",
      "    def __init__(self,first,second,weight):\n",
      "        self.u = first\n",
      "        self.v = second\n",
      "        self.weight = weight\n",
      "        self.chosen = False\n",
      "        \n",
      "    def __str__(self):\n",
      "        return_string = \"(\"+str(self.u)+\", \"+str(self.v)+\")\"+\" Weight: \"+str(self.weight)\n",
      "        return return_string"
     ],
     "language": "python",
     "metadata": {},
     "outputs": [],
     "prompt_number": 17
    },
    {
     "cell_type": "code",
     "collapsed": false,
     "input": [
      "e = edge(1,2,3)\n",
      "print e"
     ],
     "language": "python",
     "metadata": {},
     "outputs": [
      {
       "output_type": "stream",
       "stream": "stdout",
       "text": [
        "(1, 2) Weight: 3\n"
       ]
      }
     ],
     "prompt_number": 18
    },
    {
     "cell_type": "code",
     "collapsed": false,
     "input": [
      "class vertex:\n",
      "    def __init__(self, num):\n",
      "        self.num = num\n",
      "        self.edges = []\n",
      "        self.tree = None\n",
      "    \n",
      "    def __str__(self):\n",
      "        return_string = \"Vertex: \"+str(self.num)+\", Edges: \"+str(self.edges)\n",
      "        return return_string"
     ],
     "language": "python",
     "metadata": {},
     "outputs": [],
     "prompt_number": 19
    },
    {
     "cell_type": "code",
     "collapsed": false,
     "input": [
      "v = vertex(2)\n",
      "v.edges.append(3)\n",
      "v.edges.append(5)\n",
      "print v"
     ],
     "language": "python",
     "metadata": {},
     "outputs": [
      {
       "output_type": "stream",
       "stream": "stdout",
       "text": [
        "Vertex: 2, Edges: [3, 5]\n"
       ]
      }
     ],
     "prompt_number": 20
    },
    {
     "cell_type": "code",
     "collapsed": false,
     "input": [
      "class kruskal:\n",
      "    def __init__(self, size, edges_list):\n",
      "        edges_list = sorted(edges_list, key=lambda edge: edge[2])\n",
      "        self.size = size + 1\n",
      "        self.vertices = []\n",
      "        self.edges = []\n",
      "        self.tree_number = 0\n",
      "        for i in range(self.size):\n",
      "            self.vertices.append(vertex(i))\n",
      "        for e in edges_list:\n",
      "            u = e[0]\n",
      "            v = e[1]\n",
      "            w = e[2]\n",
      "            self.vertices[u].edges.append(v)\n",
      "            self.vertices[v].edges.append(u)\n",
      "            self.edges.append(edge(u,v,w))\n",
      "    \n",
      "    def update_tree(self,u,v):\n",
      "        old_tree = v.tree\n",
      "        new_tree = u.tree\n",
      "        for vertex in self.vertices:\n",
      "            if vertex.tree == old_tree:\n",
      "                vertex.tree = new_tree\n",
      "    \n",
      "    def cycle_check(self,u,v):\n",
      "        uu = self.vertices[u]\n",
      "        vv = self.vertices[v]\n",
      "        if uu.tree is None and vv.tree is None:\n",
      "            uu.tree = vv.tree = self.tree_number\n",
      "            self.tree_number+=1\n",
      "            return True\n",
      "        elif vv.tree is None:\n",
      "            vv.tree = uu.tree\n",
      "            return True\n",
      "        elif uu.tree is None:\n",
      "            uu.tree = vv.tree\n",
      "            return True\n",
      "        elif uu.tree != vv.tree:\n",
      "            self.update_tree(uu,vv)\n",
      "            return True\n",
      "        else: \n",
      "            return False\n",
      "    \n",
      "    def min_spanning(self):\n",
      "        for e in self.edges:\n",
      "            if self.cycle_check(e.u,e.v):\n",
      "                e.chosen = True\n",
      "        for e in self.edges:\n",
      "            if e.chosen:\n",
      "                print e\n",
      "    \n",
      "    def __str__(self):\n",
      "        v_string, e_string = \" \", \" \"\n",
      "        for v in self.vertices:\n",
      "            v_string = v_string + v.__str__() + \"\\n\"\n",
      "        for e in self.edges:\n",
      "            e_string = e_string + e.__str__() + \"\\n\"\n",
      "        return v_string + \"\\n\" + e_string\n",
      "\n"
     ],
     "language": "python",
     "metadata": {},
     "outputs": [],
     "prompt_number": 36
    },
    {
     "cell_type": "code",
     "collapsed": false,
     "input": [
      "test_edges = [ (3,5,6), (3,4,2), (2,5,4), (1,2,3),  (2,3,5), (4,5,7), (1,5,1)]\n",
      "\n",
      "test_graph = kruskal(5, test_edges)\n",
      "print test_graph\n",
      "\n",
      "test_graph.min_spanning()\n"
     ],
     "language": "python",
     "metadata": {},
     "outputs": [
      {
       "output_type": "stream",
       "stream": "stdout",
       "text": [
        " Vertex: 0, Edges: []\n",
        "Vertex: 1, Edges: [5, 2]\n",
        "Vertex: 2, Edges: [1, 5, 3]\n",
        "Vertex: 3, Edges: [4, 2, 5]\n",
        "Vertex: 4, Edges: [3, 5]\n",
        "Vertex: 5, Edges: [1, 2, 3, 4]\n",
        "\n",
        " (1, 5) Weight: 1\n",
        "(3, 4) Weight: 2\n",
        "(1, 2) Weight: 3\n",
        "(2, 5) Weight: 4\n",
        "(2, 3) Weight: 5\n",
        "(3, 5) Weight: 6\n",
        "(4, 5) Weight: 7\n",
        "\n",
        "(1, 5) Weight: 1\n",
        "(3, 4) Weight: 2\n",
        "(1, 2) Weight: 3\n",
        "(2, 3) Weight: 5\n"
       ]
      }
     ],
     "prompt_number": 38
    },
    {
     "cell_type": "code",
     "collapsed": false,
     "input": [
      "wiki_edges = [(1,4,5),(1,2,7),(2,4,9),(2,3,8),(2,5,7),(3,5,5),(4,5,15),(4,6,6),(5,6,8),(6,7,11),(5,7,9)]\n",
      "wiki_graph = kruskal(7,wiki_edges)\n",
      "print wiki_graph\n",
      "\n",
      "wiki_graph.min_spanning()"
     ],
     "language": "python",
     "metadata": {},
     "outputs": [
      {
       "output_type": "stream",
       "stream": "stdout",
       "text": [
        " Vertex: 0, Edges: []\n",
        "Vertex: 1, Edges: [4, 2]\n",
        "Vertex: 2, Edges: [1, 5, 3, 4]\n",
        "Vertex: 3, Edges: [5, 2]\n",
        "Vertex: 4, Edges: [1, 6, 2, 5]\n",
        "Vertex: 5, Edges: [3, 2, 6, 7, 4]\n",
        "Vertex: 6, Edges: [4, 5, 7]\n",
        "Vertex: 7, Edges: [5, 6]\n",
        "\n",
        " (1, 4) Weight: 5\n",
        "(3, 5) Weight: 5\n",
        "(4, 6) Weight: 6\n",
        "(1, 2) Weight: 7\n",
        "(2, 5) Weight: 7\n",
        "(2, 3) Weight: 8\n",
        "(5, 6) Weight: 8\n",
        "(2, 4) Weight: 9\n",
        "(5, 7) Weight: 9\n",
        "(6, 7) Weight: 11\n",
        "(4, 5) Weight: 15\n",
        "\n",
        "(1, 4) Weight: 5\n",
        "(3, 5) Weight: 5\n",
        "(4, 6) Weight: 6\n",
        "(1, 2) Weight: 7\n",
        "(2, 5) Weight: 7\n",
        "(5, 7) Weight: 9\n"
       ]
      }
     ],
     "prompt_number": 40
    },
    {
     "cell_type": "code",
     "collapsed": false,
     "input": [],
     "language": "python",
     "metadata": {},
     "outputs": []
    }
   ],
   "metadata": {}
  }
 ]
}