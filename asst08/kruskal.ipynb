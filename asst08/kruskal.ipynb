{
 "metadata": {
  "name": ""
 },
 "nbformat": 3,
 "nbformat_minor": 0,
 "worksheets": [
  {
   "cells": [
    {
     "cell_type": "code",
     "collapsed": false,
     "input": [
      "class edge:\n",
      "    '''edge object for representing graphs, contains input/output vertex attributes,\n",
      "    weight attribute and boolean toggle for inclusion in min spanning tree'''\n",
      "    def __init__(self,first,second,weight):\\\n",
      "        '''initializes an instance of the edge, 3 inputs: the 2 vertices of the edge and an edge weight'''\n",
      "        self.u = first\n",
      "        self.v = second\n",
      "        self.weight = weight\n",
      "        self.chosen = False\n",
      "        \n",
      "    def __str__(self):\n",
      "        '''returns a string listing attributes of the edge'''\n",
      "        return_string = \"(\"+str(self.u)+\", \"+str(self.v)+\")\"+\" Weight: \"+str(self.weight)\n",
      "        return return_string"
     ],
     "language": "python",
     "metadata": {},
     "outputs": [],
     "prompt_number": 17
    },
    {
     "cell_type": "code",
     "collapsed": false,
     "input": [
      "##sample edge\n",
      "e = edge(1,2,3)\n",
      "print e"
     ],
     "language": "python",
     "metadata": {},
     "outputs": [
      {
       "output_type": "stream",
       "stream": "stdout",
       "text": [
        "(1, 2) Weight: 3\n"
       ]
      }
     ],
     "prompt_number": 18
    },
    {
     "cell_type": "code",
     "collapsed": false,
     "input": [
      "class vertex:\n",
      "    '''Vertex object '''\n",
      "    def __init__(self, num):\n",
      "        '''initializes an instance of a vertex.  tree attribute will be used for determining which\n",
      "        vertices are already part of a tree.  one input: the numeric label of the vertex'''\n",
      "        self.num = num\n",
      "        self.edges = []\n",
      "        self.tree = None\n",
      "    \n",
      "    def __str__(self):\n",
      "        '''returns a string containing attributes of the vertex'''\n",
      "        return_string = \"Vertex: \"+str(self.num)+\", Edges: \"+str(self.edges)\n",
      "        return return_string"
     ],
     "language": "python",
     "metadata": {},
     "outputs": [],
     "prompt_number": 19
    },
    {
     "cell_type": "code",
     "collapsed": false,
     "input": [
      "##sample vertex\n",
      "v = vertex(2)\n",
      "v.edges.append(3)\n",
      "v.edges.append(5)\n",
      "print v"
     ],
     "language": "python",
     "metadata": {},
     "outputs": [
      {
       "output_type": "stream",
       "stream": "stdout",
       "text": [
        "Vertex: 2, Edges: [3, 5]\n"
       ]
      }
     ],
     "prompt_number": 20
    },
    {
     "cell_type": "code",
     "collapsed": false,
     "input": [
      "class kruskal:\n",
      "    '''a modified graph object, with methods related to using kruskal's algorithm'''\n",
      "    def __init__(self, size, edges_list):\n",
      "        '''initializes an (undirected) graph, based on size and a list of edges.  List of edges\n",
      "        is sorted by weight first to save time later on.  edges are tuples in the format \n",
      "        (v1, v2, weight)'''\n",
      "        edges_list = sorted(edges_list, key=lambda edge: edge[2])\n",
      "        self.size = size + 1\n",
      "        self.vertices = []  \n",
      "        self.edges = []   \n",
      "        self.tree_number = 0\n",
      "        for i in range(self.size):\n",
      "            self.vertices.append(vertex(i))\n",
      "        for e in edges_list:\n",
      "            u = e[0]\n",
      "            v = e[1]\n",
      "            w = e[2]\n",
      "            self.vertices[u].edges.append(v)\n",
      "            self.vertices[v].edges.append(u)\n",
      "            self.edges.append(edge(u,v,w))\n",
      "    \n",
      "    def update_tree(self,u,v):\n",
      "        '''Called when adding edge (u,v) connects two previously disjoint trees in the\n",
      "        min-spanning tree.  Updates all vertices with v's tree number to u's tree number'''\n",
      "        old_tree = v.tree\n",
      "        new_tree = u.tree\n",
      "        for vertex in self.vertices:\n",
      "            if vertex.tree == old_tree:\n",
      "                vertex.tree = new_tree\n",
      "    \n",
      "    def cycle_check(self,u,v):\n",
      "        '''checks if adding the edge (u,v) to the min-spanning tree will create a cycle.  \n",
      "        If a cycle is created, returns False.  If a cycle is not created, sets the tree\n",
      "        attribute of each vertex as appropriate and returns True'''\n",
      "        uu = self.vertices[u]\n",
      "        vv = self.vertices[v]\n",
      "        if uu.tree is None and vv.tree is None:  ##neither verttex is connected to the min-spanning tree, creates a new tree\n",
      "            uu.tree = vv.tree = self.tree_number\n",
      "            self.tree_number+=1\n",
      "            return True\n",
      "        elif vv.tree is None:  ##one vertex is not connected, connect it to uu's tree\n",
      "            vv.tree = uu.tree\n",
      "            return True\n",
      "        elif uu.tree is None:  ##reverse of above\n",
      "            uu.tree = vv.tree\n",
      "            return True\n",
      "        elif uu.tree != vv.tree:  ##both are connected, but to different trees.  Add edge, update tree numbers\n",
      "            self.update_tree(uu,vv)\n",
      "            return True\n",
      "        else: \n",
      "            return False\n",
      "    \n",
      "    def min_spanning(self):\n",
      "        '''implements kruskal's algorithm for finding a min-spanning tree by cycling through the list\n",
      "        of edges (already sorted in order of weight), changing their chosen attribute to True if adding\n",
      "        the edge doesn't create a cycle.  Prints chosen edges after algorithm terminates.'''\n",
      "        for e in self.edges:\n",
      "            if self.cycle_check(e.u,e.v):\n",
      "                e.chosen = True\n",
      "        for e in self.edges:\n",
      "            if e.chosen:\n",
      "                print e\n",
      "    \n",
      "    def __str__(self):\n",
      "        '''returns a string representing all vertices + edges of the graph with their attributes'''\n",
      "        v_string, e_string = \" \", \" \"\n",
      "        for v in self.vertices:\n",
      "            v_string = v_string + v.__str__() + \"\\n\"\n",
      "        for e in self.edges:\n",
      "            e_string = e_string + e.__str__() + \"\\n\"\n",
      "        return v_string + \"\\n\" + e_string\n",
      "\n"
     ],
     "language": "python",
     "metadata": {},
     "outputs": [],
     "prompt_number": 36
    },
    {
     "cell_type": "code",
     "collapsed": false,
     "input": [
      "##Test graph #1 \n",
      "\n",
      "test_edges = [ (3,5,6), (3,4,2), (2,5,4), (1,2,3),  (2,3,5), (4,5,7), (1,5,1)]\n",
      "\n",
      "test_graph = kruskal(5, test_edges)\n",
      "\n",
      "print test_graph\n",
      "\n",
      "test_graph.min_spanning()\n"
     ],
     "language": "python",
     "metadata": {},
     "outputs": [
      {
       "output_type": "stream",
       "stream": "stdout",
       "text": [
        " Vertex: 0, Edges: []\n",
        "Vertex: 1, Edges: [5, 2]\n",
        "Vertex: 2, Edges: [1, 5, 3]\n",
        "Vertex: 3, Edges: [4, 2, 5]\n",
        "Vertex: 4, Edges: [3, 5]\n",
        "Vertex: 5, Edges: [1, 2, 3, 4]\n",
        "\n",
        " (1, 5) Weight: 1\n",
        "(3, 4) Weight: 2\n",
        "(1, 2) Weight: 3\n",
        "(2, 5) Weight: 4\n",
        "(2, 3) Weight: 5\n",
        "(3, 5) Weight: 6\n",
        "(4, 5) Weight: 7\n",
        "\n",
        "(1, 5) Weight: 1\n",
        "(3, 4) Weight: 2\n",
        "(1, 2) Weight: 3\n",
        "(2, 3) Weight: 5\n"
       ]
      }
     ],
     "prompt_number": 38
    },
    {
     "cell_type": "code",
     "collapsed": false,
     "input": [
      "##Test graph #2\n",
      "\n",
      "wiki_edges = [(1,4,5),(1,2,7),(2,4,9),(2,3,8),(2,5,7),(3,5,5),(4,5,15),(4,6,6),(5,6,8),(6,7,11),(5,7,9)]\n",
      "wiki_graph = kruskal(7,wiki_edges)\n",
      "print wiki_graph\n",
      "\n",
      "wiki_graph.min_spanning()"
     ],
     "language": "python",
     "metadata": {},
     "outputs": [
      {
       "output_type": "stream",
       "stream": "stdout",
       "text": [
        " Vertex: 0, Edges: []\n",
        "Vertex: 1, Edges: [4, 2]\n",
        "Vertex: 2, Edges: [1, 5, 3, 4]\n",
        "Vertex: 3, Edges: [5, 2]\n",
        "Vertex: 4, Edges: [1, 6, 2, 5]\n",
        "Vertex: 5, Edges: [3, 2, 6, 7, 4]\n",
        "Vertex: 6, Edges: [4, 5, 7]\n",
        "Vertex: 7, Edges: [5, 6]\n",
        "\n",
        " (1, 4) Weight: 5\n",
        "(3, 5) Weight: 5\n",
        "(4, 6) Weight: 6\n",
        "(1, 2) Weight: 7\n",
        "(2, 5) Weight: 7\n",
        "(2, 3) Weight: 8\n",
        "(5, 6) Weight: 8\n",
        "(2, 4) Weight: 9\n",
        "(5, 7) Weight: 9\n",
        "(6, 7) Weight: 11\n",
        "(4, 5) Weight: 15\n",
        "\n",
        "(1, 4) Weight: 5\n",
        "(3, 5) Weight: 5\n",
        "(4, 6) Weight: 6\n",
        "(1, 2) Weight: 7\n",
        "(2, 5) Weight: 7\n",
        "(5, 7) Weight: 9\n"
       ]
      }
     ],
     "prompt_number": 40
    },
    {
     "cell_type": "code",
     "collapsed": false,
     "input": [],
     "language": "python",
     "metadata": {},
     "outputs": []
    }
   ],
   "metadata": {}
  }
 ]
}