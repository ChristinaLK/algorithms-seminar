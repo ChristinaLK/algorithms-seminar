{
 "metadata": {
  "name": ""
 },
 "nbformat": 3,
 "nbformat_minor": 0,
 "worksheets": [
  {
   "cells": [
    {
     "cell_type": "markdown",
     "metadata": {},
     "source": [
      "sample edge sets"
     ]
    },
    {
     "cell_type": "code",
     "collapsed": false,
     "input": [
      "sample_edges = [ (1,2), (1,3), (2,4), (3,4), (3,5), (3,7), (4,5), (4,6)]\n",
      "\n",
      "test_edges = [ (3,5,6), (3,4,2), (2,5,4), (1,2,3),  (2,3,5), (4,5,7), (1,5,1)]\n",
      "\n",
      "wiki_edges = [(1,4,5),(1,2,7),(2,4,9),(2,3,8),(2,5,7),(3,5,5),(4,5,15),(4,6,6),(5,6,8),(6,7,11),(5,7,9)]\n",
      "\n",
      "dijkstra_edges = [((1,3),6 ), ((1,4),3 ),  ((2,1), 3),  ((3,4), 2),  ((4,2), 1), ((4,3), 1), ((5,2), 4), ((5,4), 2)]"
     ],
     "language": "python",
     "metadata": {},
     "outputs": [],
     "prompt_number": 1
    },
    {
     "cell_type": "code",
     "collapsed": false,
     "input": [
      "class vertex:\n",
      "    def __init__(self, num):\n",
      "        self.num = num\n",
      "        self.edges = []\n",
      "        self.distance = None\n",
      "        self.parent = None\n",
      "        self.kids = [ ]\n",
      "        self.color = True\n",
      "        \n",
      "        \n",
      "    def __str__(self):\n",
      "        return_string = \"Vertex: \"+str(self.num)+\" Edges: \"+str(self.edges)+\" Distance: \"+str(self.distance)+\" Parent: \"+str(self.parent)\n",
      "        return return_string"
     ],
     "language": "python",
     "metadata": {},
     "outputs": [],
     "prompt_number": 28
    },
    {
     "cell_type": "code",
     "collapsed": false,
     "input": [
      "v = vertex(5)\n",
      "print v"
     ],
     "language": "python",
     "metadata": {},
     "outputs": [
      {
       "output_type": "stream",
       "stream": "stdout",
       "text": [
        "Vertex: 5 Edges: [] Distance: None Parent: None\n"
       ]
      }
     ],
     "prompt_number": 29
    },
    {
     "cell_type": "code",
     "collapsed": false,
     "input": [
      "def graph_builder(size, edge_list):\n",
      "    graph = [ ]\n",
      "    for i in range(size+1):\n",
      "        graph.append(vertex(i))\n",
      "    for e in edge_list:\n",
      "        start_v = e[0]\n",
      "        end_v = e[1]\n",
      "        graph[start_v].edges.append(end_v)\n",
      "        graph[end_v].edges.append(start_v)\n",
      "    return graph\n",
      "\n",
      "def graph_print(graph):\n",
      "    for v in graph[1:]:\n",
      "        print v"
     ],
     "language": "python",
     "metadata": {},
     "outputs": [],
     "prompt_number": 30
    },
    {
     "cell_type": "code",
     "collapsed": false,
     "input": [
      "sample_graph=graph_builder(7, sample_edges)\n",
      "\n",
      "graph_print(sample_graph)"
     ],
     "language": "python",
     "metadata": {},
     "outputs": [
      {
       "output_type": "stream",
       "stream": "stdout",
       "text": [
        "Vertex: 1 Edges: [2, 3] Distance: None Parent: None\n",
        "Vertex: 2 Edges: [1, 4] Distance: None Parent: None\n",
        "Vertex: 3 Edges: [1, 4, 5, 7] Distance: None Parent: None\n",
        "Vertex: 4 Edges: [2, 3, 5, 6] Distance: None Parent: None\n",
        "Vertex: 5 Edges: [3, 4] Distance: None Parent: None\n",
        "Vertex: 6 Edges: [4] Distance: None Parent: None\n",
        "Vertex: 7 Edges: [3] Distance: None Parent: None\n"
       ]
      }
     ],
     "prompt_number": 31
    },
    {
     "cell_type": "code",
     "collapsed": false,
     "input": [
      "def bfs(g, source):\n",
      "    v = g[source]\n",
      "    v.color = False\n",
      "    v.distance = 0\n",
      "    Q = [v.num]\n",
      "    while Q != []:\n",
      "        val = Q.pop(0)\n",
      "        u = g[val]\n",
      "        for e in u.edges:\n",
      "            w = g[e]\n",
      "            if w.color:\n",
      "                w.color = False\n",
      "                w.distance = u.distance + 1\n",
      "                w.parent = u\n",
      "                u.kids.append(w.num)\n",
      "                Q.append(w.num)\n",
      "\n",
      "                \n",
      "                \n"
     ],
     "language": "python",
     "metadata": {},
     "outputs": [],
     "prompt_number": 32
    },
    {
     "cell_type": "code",
     "collapsed": false,
     "input": [
      "bfs(sample_graph, 7)\n",
      "\n",
      "graph_print(sample_graph)"
     ],
     "language": "python",
     "metadata": {},
     "outputs": [
      {
       "output_type": "stream",
       "stream": "stdout",
       "text": [
        "Vertex: 1 Edges: [2, 3] Distance: 2 Parent: Vertex: 3 Edges: [1, 4, 5, 7] Distance: 1 Parent: Vertex: 7 Edges: [3] Distance: 0 Parent: None\n",
        "Vertex: 2 Edges: [1, 4] Distance: 3 Parent: Vertex: 1 Edges: [2, 3] Distance: 2 Parent: Vertex: 3 Edges: [1, 4, 5, 7] Distance: 1 Parent: Vertex: 7 Edges: [3] Distance: 0 Parent: None\n",
        "Vertex: 3 Edges: [1, 4, 5, 7] Distance: 1 Parent: Vertex: 7 Edges: [3] Distance: 0 Parent: None\n",
        "Vertex: 4 Edges: [2, 3, 5, 6] Distance: 2 Parent: Vertex: 3 Edges: [1, 4, 5, 7] Distance: 1 Parent: Vertex: 7 Edges: [3] Distance: 0 Parent: None\n",
        "Vertex: 5 Edges: [3, 4] Distance: 2 Parent: Vertex: 3 Edges: [1, 4, 5, 7] Distance: 1 Parent: Vertex: 7 Edges: [3] Distance: 0 Parent: None\n",
        "Vertex: 6 Edges: [4] Distance: 3 Parent: Vertex: 4 Edges: [2, 3, 5, 6] Distance: 2 Parent: Vertex: 3 Edges: [1, 4, 5, 7] Distance: 1 Parent: Vertex: 7 Edges: [3] Distance: 0 Parent: None\n",
        "Vertex: 7 Edges: [3] Distance: 0 Parent: None\n"
       ]
      }
     ],
     "prompt_number": 33
    },
    {
     "cell_type": "code",
     "collapsed": false,
     "input": [
      "def treeplot(graph, source):\n",
      "    fig, ax = plt.subplots()\n",
      "    axx = float(4)\n",
      "    axy = float(4)\n",
      "    plt.axis('off')\n",
      " \n",
      "    \n",
      "    def plotchildren(vertex,distance,xparent,yparent):\n",
      "        item = str(vertex.num)\n",
      "        ax.text(xparent,yparent, item, fontsize=15)\n",
      "        #num_kids = len(vertex.kids)\n",
      "        xkid = xparent\n",
      "        ykid = yparent - 0.4\n",
      "        for k in vertex.kids:\n",
      "            xkid = xkid + axx/2**distance\n",
      "            plotchildren(graph[k],graph[k].distance,xkid,ykid)\n",
      "            ax.plot([xparent,xkid],[yparent,ykid],color='blue')\n",
      "        \n",
      "    number = 1\n",
      "    xparent = axx/2\n",
      "    yparent = axy\n",
      "    plotchildren(graph[source],graph[source].distance,xparent,yparent)"
     ],
     "language": "python",
     "metadata": {},
     "outputs": [],
     "prompt_number": 34
    },
    {
     "cell_type": "code",
     "collapsed": false,
     "input": [
      "import numpy as np\n",
      "import matplotlib.pyplot as plt"
     ],
     "language": "python",
     "metadata": {},
     "outputs": [],
     "prompt_number": 36
    },
    {
     "cell_type": "code",
     "collapsed": false,
     "input": [
      "%pylab inline"
     ],
     "language": "python",
     "metadata": {},
     "outputs": [
      {
       "output_type": "stream",
       "stream": "stdout",
       "text": [
        "Populating the interactive namespace from numpy and matplotlib\n"
       ]
      }
     ],
     "prompt_number": 37
    },
    {
     "cell_type": "code",
     "collapsed": false,
     "input": [
      "treeplot(sample_graph, 7)"
     ],
     "language": "python",
     "metadata": {},
     "outputs": [
      {
       "metadata": {},
       "output_type": "display_data",
       "png": "[encoded data removed]",
       "text": [
        "<matplotlib.figure.Figure at 0x89d9588>"
       ]
      }
     ],
     "prompt_number": 38
    },
    {
     "cell_type": "code",
     "collapsed": false,
     "input": [],
     "language": "python",
     "metadata": {},
     "outputs": []
    }
   ],
   "metadata": {}
  }
 ]
}