{
 "metadata": {
  "name": ""
 },
 "nbformat": 3,
 "nbformat_minor": 0,
 "worksheets": [
  {
   "cells": [
    {
     "cell_type": "code",
     "collapsed": false,
     "input": [
      "class vertex:\n",
      "    def __init__(self, num):\n",
      "        self.num = num\n",
      "        self.edges = []\n",
      "        self.parent = None\n",
      "        self.distance = None\n",
      "        self.color = 0\n",
      "    \n",
      "    def __str__(self, mode=\"short\"):\n",
      "        parent_string, edges_string, color_string = \"None\", \" \" , \" \"\n",
      "        if self.parent != None:\n",
      "            parent_string = str(self.parent.num)\n",
      "        if self.edges != []:\n",
      "            for e in self.edges:\n",
      "                edges_string = edges_string+str(e.dest)+\", \"\n",
      "        if self.color == 0:\n",
      "            color_string = \"White\"\n",
      "        elif self.color == 1:\n",
      "            color_string == \"Grey\"\n",
      "        else: \n",
      "            color_string = \"Black\"\n",
      "        return \"Vertex: \"+str(self.num)+\" Parent: \"+parent_string+\" Distance: \"+str(self.distance)#+\" Color: \"+color_string\n",
      "        '''\n",
      "        if mode==\"short\":\n",
      "            return \"Vertex: \"+str(self.num)+\" Edges: \"+edges_string+\" Parent: \"+parent_string\n",
      "        elif mode==\"long\":\n",
      "            return \"Vertex: \"+str(self.num)+\" Edges: \"+edges_string+\" Parent: \"+parent_string+\" Distance: \"+str(self.distance)+\" Color: \"+color_string\n",
      "        elif mode==\"min\":\n",
      "            return \"Vertex: \"+str(self.num)+\" Parent: \"+parent_string+\" Distance: \"+str(self.distance)+\" Color: \"+color_string\n",
      "            '''"
     ],
     "language": "python",
     "metadata": {},
     "outputs": [],
     "prompt_number": 5
    },
    {
     "cell_type": "code",
     "collapsed": false,
     "input": [
      "class edge:\n",
      "    def __init__(self, destination, weight=1):\n",
      "        self.dest = destination\n",
      "        self.weight = weight\n",
      "    \n",
      "    def __str__(self):\n",
      "        return \"Destination vertex: \"+str(self.dest)+\" Weight is: \"+str(self.weight)"
     ],
     "language": "python",
     "metadata": {},
     "outputs": [],
     "prompt_number": 6
    },
    {
     "cell_type": "code",
     "collapsed": false,
     "input": [
      "class adj_list:\n",
      "    def __init__(self, num, edge_list, directed=True, weighted=True):\n",
      "        self.size = num+1\n",
      "        self.vlist = []\n",
      "        for i in range(self.size):\n",
      "            self.vlist.append(vertex(i))\n",
      "        for e in edge_list:\n",
      "            if weighted:\n",
      "                start_vertex = e[0][0]\n",
      "                end_vertex = e[0][1]\n",
      "                weight = e[1]\n",
      "                self.vlist[start_vertex].edges.append(edge(end_vertex, weight))\n",
      "                if not directed:\n",
      "                    self.vlist[end_vertex].edges.append(edge(start_vertex, weight))                    \n",
      "            else:\n",
      "                start_vertex = e[0]\n",
      "                end_vertex = e[1]\n",
      "                self.vlist[start_vertex].edges.append(edge(end_vertex))\n",
      "                if not directed:\n",
      "                    self.vlist[end_vertex].edges.append(edge(start_vertex))\n",
      "\n",
      "    def breadth_first_search(self, source):\n",
      "        self.vlist[source].distance = 0\n",
      "        self.vlist[source].color = 1\n",
      "        queue = []\n",
      "        queue.append(source)\n",
      "        while len(queue) != 0:\n",
      "            #print queue\n",
      "            v = queue[0]\n",
      "            for e in self.vlist[v].edges:\n",
      "                end_v = e.dest\n",
      "                if self.vlist[end_v].color == 0:\n",
      "                    self.vlist[end_v].color = 1\n",
      "                    self.vlist[end_v].parent = self.vlist[v]\n",
      "                    self.vlist[end_v].distance = self.vlist[v].distance + 1\n",
      "                    queue.append(end_v)\n",
      "            self.vlist[v].color = 2\n",
      "            #print self.vlist[v].__str__()\n",
      "            queue.pop(0)            \n",
      "    \n",
      "    def __str__(self):\n",
      "        return_string = \" \"\n",
      "        for v in self.vlist[1:]:\n",
      "            return_string = return_string+v.__str__()+' \\n '\n",
      "        return return_string"
     ],
     "language": "python",
     "metadata": {},
     "outputs": [],
     "prompt_number": 26
    },
    {
     "cell_type": "code",
     "collapsed": false,
     "input": [
      "sample_edges = [ ((1,2), 1), ((1,3), 1), ((2,4), 1), ((3,4), 1), ((3,5), 1), ((3,7), 1), ((4,5), 1), ((4,6), 1)]\n",
      "\n",
      "sample_graph = adj_list(7, sample_edges, False)\n",
      "print sample_graph.__str__()"
     ],
     "language": "python",
     "metadata": {},
     "outputs": [
      {
       "output_type": "stream",
       "stream": "stdout",
       "text": [
        " Vertex: 1 Parent: None Distance: None \n",
        " Vertex: 2 Parent: None Distance: None \n",
        " Vertex: 3 Parent: None Distance: None \n",
        " Vertex: 4 Parent: None Distance: None \n",
        " Vertex: 5 Parent: None Distance: None \n",
        " Vertex: 6 Parent: None Distance: None \n",
        " Vertex: 7 Parent: None Distance: None \n",
        " \n"
       ]
      }
     ],
     "prompt_number": 27
    },
    {
     "cell_type": "code",
     "collapsed": false,
     "input": [
      "sample_graph.breadth_first_search(4)\n",
      "\n",
      "print sample_graph.__str__()"
     ],
     "language": "python",
     "metadata": {},
     "outputs": [
      {
       "output_type": "stream",
       "stream": "stdout",
       "text": [
        " Vertex: 1 Parent: 2 Distance: 2 \n",
        " Vertex: 2 Parent: 4 Distance: 1 \n",
        " Vertex: 3 Parent: 4 Distance: 1 \n",
        " Vertex: 4 Parent: None Distance: 0 \n",
        " Vertex: 5 Parent: 4 Distance: 1 \n",
        " Vertex: 6 Parent: 4 Distance: 1 \n",
        " Vertex: 7 Parent: 3 Distance: 2 \n",
        " \n"
       ]
      }
     ],
     "prompt_number": 28
    },
    {
     "cell_type": "code",
     "collapsed": false,
     "input": [],
     "language": "python",
     "metadata": {},
     "outputs": [],
     "prompt_number": 5
    },
    {
     "cell_type": "code",
     "collapsed": false,
     "input": [],
     "language": "python",
     "metadata": {},
     "outputs": [],
     "prompt_number": 7
    }
   ],
   "metadata": {}
  }
 ]
}