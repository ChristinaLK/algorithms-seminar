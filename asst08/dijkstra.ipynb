{
 "metadata": {
  "name": ""
 },
 "nbformat": 3,
 "nbformat_minor": 0,
 "worksheets": [
  {
   "cells": [
    {
     "cell_type": "code",
     "collapsed": false,
     "input": [
      "class vertex:\n",
      "    '''Vertex object to represent vertex of a graph.  The color attribute is used to \n",
      "    track whether a vertex has been \"discovered\" in the search for a shortest path.  \n",
      "    I have used \"None\" to indicate infinite distance'''\n",
      "    def __init__(self, num):\n",
      "        '''Initializes object instance with numerical label of vertex'''\n",
      "        self.num = num\n",
      "        self.edges = []\n",
      "        self.parent = None\n",
      "        self.kids = []\n",
      "        self.distance = None\n",
      "        self.color = False\n",
      "    \n",
      "    def find_edgeweight(self, edge):\n",
      "        '''find the weight for an edge from this vertex to a vertex with numerical label edge'''\n",
      "        for e in self.edges:\n",
      "            if e.num == edge:\n",
      "                return e.weight\n",
      "        return None\n",
      "    \n",
      "    def __str__(self, mode=\"short\"):\n",
      "        '''Returns a string listing attributes of a vertex'''\n",
      "        parent_string, edges_string, color_string = \"None\", \" \" , \" \"\n",
      "        if self.parent != None:\n",
      "            parent_string = str(self.parent.num)\n",
      "        if self.edges != []:\n",
      "            for e in self.edges:\n",
      "                edges_string = edges_string+str(e.num)+\", \"\n",
      "        if self.color:\n",
      "            color_string = \"Black\"\n",
      "        else:\n",
      "            color_string = \"White\"\n",
      "        return \"Vertex: \"+str(self.num)+\" Parent: \"+parent_string+\" Distance: \"+str(self.distance)+\" Color: \"+color_string+\" Edges are: \"+edges_string"
     ],
     "language": "python",
     "metadata": {},
     "outputs": [],
     "prompt_number": 1
    },
    {
     "cell_type": "code",
     "collapsed": false,
     "input": [
      "class edge:\n",
      "    '''Edge object to represent edge of a graph, attributes include numerical label,\n",
      "    \"pointer\" to the destination vertex, and weight of the edge'''\n",
      "    def __init__(self, val, dest_vertex = None, weight=1):\n",
      "        '''Creates an instance of an edge, required input is numerical label,\n",
      "        optional inputs are the destination vertex and weight of the edge'''\n",
      "        self.num = val\n",
      "        self.dest = dest_vertex\n",
      "        self.weight = weight"
     ],
     "language": "python",
     "metadata": {},
     "outputs": [],
     "prompt_number": 2
    },
    {
     "cell_type": "code",
     "collapsed": false,
     "input": [
      "class graph:\n",
      "    '''Represents a graph using an adjacency list of vertices.  The \"extra set\" attribute\n",
      "        is a list of the vertex labels, and is used later to run dijkstra's algorithm - it \n",
      "        essentially tracks which vertices have not yet joined the \"shortest path\" set'''\n",
      "    def __init__(self, num, edge_list):\n",
      "        '''Initialize the graph by creating a list of vertices of length \"size\" and \n",
      "        then adding each edge from the edge_list to the \"edges\" attribute of the appropriate\n",
      "        vertex.  Each edge is a tuple formatted as ((v1,v2),weight)'''\n",
      "        self.size = num+1\n",
      "        self.extra_set = range(1,num+1)\n",
      "        self.vertices = []\n",
      "        for i in range(self.size):\n",
      "            self.vertices.append(vertex(i))\n",
      "        for e in edge_list:\n",
      "            start_vertex = e[0][0]\n",
      "            end_vertex = e[0][1]\n",
      "            weight = e[1]\n",
      "            self.vertices[start_vertex].edges.append(edge(end_vertex, self.vertices[end_vertex], weight))                \n",
      "\n",
      "    def find_min(self):\n",
      "        '''of the vertices remaining in the attribute \"extra_set\", finds the vertex \n",
      "        with the smallest distance attribute'''\n",
      "        assert self.extra_set != [], \"Set to be minimized is non-empty\"\n",
      "        initial= self.extra_set[0]\n",
      "        smallest_distance = self.vertices[initial].distance\n",
      "        return_vertex = self.vertices[initial]\n",
      "        for index in self.extra_set:\n",
      "            if self.vertices[index].distance < smallest_distance:\n",
      "                smallest_distance = self.vertices[index].distance\n",
      "                return_vertex = self.vertices[index]\n",
      "        return return_vertex\n",
      "    \n",
      "    def relax(self, v):\n",
      "        '''explores all vertices in the edge set of v (destinations from v) and updates their\n",
      "        shortest distance if appropriate.  This step is done after v.distance is optimized already.'''\n",
      "        if v.distance != None:  #intermediate vertex must be discovered already\n",
      "            for e in v.edges:  #go through each edge\n",
      "                u = e.dest\n",
      "                if u.color is not True:  #if the element is not yet \"discovered\"\n",
      "                    u.distance = v.distance + e.weight\n",
      "                    u.color = True\n",
      "                    #print \"changed path from \",v.num,\"to\",u.num,\"new distance is\",u.distance\n",
      "                elif u.distance > v.distance + e.weight: #if the new path is better\n",
      "                    u.distance = v.distance + e.weight\n",
      "                    u.parent = v\n",
      "                    #print \"changed path from \",v.num,\"to\",u.num,\"new distance is\",u.distance\n",
      "    \n",
      "    def __str__(self):\n",
      "        '''returns a string containing all vertices of the graph + their attributes'''\n",
      "        return_string = \" \"\n",
      "        for v in self.vertices[1:]:\n",
      "            return_string = return_string+v.__str__()+' \\n '\n",
      "        return_string = return_string+str(self.extra_set)\n",
      "        return return_string"
     ],
     "language": "python",
     "metadata": {},
     "outputs": [],
     "prompt_number": 3
    },
    {
     "cell_type": "code",
     "collapsed": false,
     "input": [
      "##test graph (from: http://faculty.ycp.edu/~dbabcock/cs360/lectures/lecture21.html)\n",
      "\n",
      "test_edges = [((1,3),6 ), ((1,4),3 ),  ((2,1), 3),  ((3,4), 2),  ((4,2), 1), ((4,3), 1), ((5,2), 4), ((5,4), 2)]\n",
      "\n",
      "test_graph = graph(5, test_edges)\n",
      "\n",
      "print test_graph"
     ],
     "language": "python",
     "metadata": {},
     "outputs": [
      {
       "output_type": "stream",
       "stream": "stdout",
       "text": [
        " Vertex: 1 Parent: None Distance: None Color: White Edges are:  3, 4,  \n",
        " Vertex: 2 Parent: None Distance: None Color: White Edges are:  1,  \n",
        " Vertex: 3 Parent: None Distance: None Color: White Edges are:  4,  \n",
        " Vertex: 4 Parent: None Distance: None Color: White Edges are:  2, 3,  \n",
        " Vertex: 5 Parent: None Distance: None Color: White Edges are:  2, 4,  \n",
        " [1, 2, 3, 4, 5]\n"
       ]
      }
     ],
     "prompt_number": 4
    },
    {
     "cell_type": "code",
     "collapsed": false,
     "input": [
      "def dijkstra(g, source):\n",
      "    '''Takes a graph and the number of a source vertex as inputs, \n",
      "    runs dijkstra's algorithm for shortest paths, modifying attributes\n",
      "    of the vertices as appropriate'''\n",
      "    v_source = g.vertices[source]\n",
      "    v_source.color = True\n",
      "    v_source.distance = 0\n",
      "    g.relax(v_source)\n",
      "    g.extra_set.remove(source)\n",
      "    while g.extra_set != []:\n",
      "        v = g.find_min()\n",
      "        #v.parent.kids.append(v.num)\n",
      "        g.relax(v)\n",
      "        g.extra_set.remove(v.num)"
     ],
     "language": "python",
     "metadata": {},
     "outputs": [],
     "prompt_number": 5
    },
    {
     "cell_type": "code",
     "collapsed": false,
     "input": [
      "##run dijkstra on the test graph\n",
      "\n",
      "dijkstra(test_graph, 5)\n",
      "print test_graph"
     ],
     "language": "python",
     "metadata": {},
     "outputs": [
      {
       "output_type": "stream",
       "stream": "stdout",
       "text": [
        " Vertex: 1 Parent: None Distance: 6 Color: Black Edges are:  3, 4,  \n",
        " Vertex: 2 Parent: 4 Distance: 3 Color: Black Edges are:  1,  \n",
        " Vertex: 3 Parent: None Distance: 3 Color: Black Edges are:  4,  \n",
        " Vertex: 4 Parent: None Distance: 2 Color: Black Edges are:  2, 3,  \n",
        " Vertex: 5 Parent: None Distance: 0 Color: Black Edges are:  2, 4,  \n",
        " []\n"
       ]
      }
     ],
     "prompt_number": 6
    },
    {
     "cell_type": "code",
     "collapsed": false,
     "input": [],
     "language": "python",
     "metadata": {},
     "outputs": [],
     "prompt_number": 6
    }
   ],
   "metadata": {}
  }
 ]
}