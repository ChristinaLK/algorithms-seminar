{
 "metadata": {
  "name": ""
 },
 "nbformat": 3,
 "nbformat_minor": 0,
 "worksheets": [
  {
   "cells": [
    {
     "cell_type": "code",
     "collapsed": false,
     "input": [
      "class vertex:\n",
      "    def __init__(self, num, edges=[]):\n",
      "        self.num = num\n",
      "        self.edges = edges\n",
      "        self.parent = None\n",
      "        self.distance = None\n",
      "        self.color = 0\n",
      "    \n",
      "    def __str__(self):\n",
      "        if self.parent is None:\n",
      "           \n"
     ],
     "language": "python",
     "metadata": {},
     "outputs": [],
     "prompt_number": 53
    },
    {
     "cell_type": "code",
     "collapsed": false,
     "input": [
      "class edge:\n",
      "    def __init__(self, destination, weight=1):\n",
      "        self.dest = destination\n",
      "        self.weight = weight"
     ],
     "language": "python",
     "metadata": {},
     "outputs": [],
     "prompt_number": 22
    },
    {
     "cell_type": "code",
     "collapsed": false,
     "input": [
      "class adj_list:\n",
      "    def __init__(self, num):\n",
      "        self.size = num\n",
      "        blank_vertex = vertex()"
     ],
     "language": "python",
     "metadata": {},
     "outputs": []
    },
    {
     "cell_type": "code",
     "collapsed": false,
     "input": [
      "def make_adj_list(edge_list=[((1,1),1)]):\n",
      "    '''Creates an adjacency list, given a list of edges/weights, where each input is a tuple of the form ((v1,v2),weight)'''\n",
      "    num = len(edge_list)+1\n",
      "    adj_list = []\n",
      "    for i in range(num):\n",
      "        adj_list.append(vertex())\n",
      "    for e in edge_list:\n",
      "        start_vertex = e[0][0]\n",
      "        end_vertex = e[0][1]\n",
      "        weight = e[1]\n",
      "        adj_list[start_vertex].edges.append(edge(end_vertex, weight))\n",
      "        adj_list[end_vertex].edges.append(edge(start_vertex, weight))\n",
      "    return adj_list\n",
      "        \n",
      "make_adj_list()"
     ],
     "language": "python",
     "metadata": {},
     "outputs": [
      {
       "metadata": {},
       "output_type": "pyout",
       "prompt_number": 54,
       "text": [
        "[<__main__.vertex instance at 0x0000000006084E08>,\n",
        " <__main__.vertex instance at 0x0000000006084E88>]"
       ]
      }
     ],
     "prompt_number": 54
    },
    {
     "cell_type": "code",
     "collapsed": false,
     "input": [
      "sample_edges = [ ((1,2), 1), ((1,3), 1), ((2,4), 1), ((3,4), 1), ((3,5), 1), ((3,7), 1), ((4,5), 1), ((4,6), 1)]\n",
      "\n",
      "sample_graph = make_adj_list(sample_edges)\n",
      "\n",
      "for i in range(1,9):\n",
      "    print \"vertex\", i\n",
      "    sample_graph[i].print_vals()"
     ],
     "language": "python",
     "metadata": {},
     "outputs": [
      {
       "output_type": "stream",
       "stream": "stdout",
       "text": [
        "vertex 1\n",
        "Parent is None\n",
        "Distance is None\n",
        "Color is 0\n",
        "vertex 2\n",
        "Parent is None\n",
        "Distance is None\n",
        "Color is 0\n",
        "vertex 3\n",
        "Parent is None\n",
        "Distance is None\n",
        "Color is 0\n",
        "vertex 4\n",
        "Parent is None\n",
        "Distance is None\n",
        "Color is 0\n",
        "vertex 5\n",
        "Parent is None\n",
        "Distance is None\n",
        "Color is 0\n",
        "vertex 6\n",
        "Parent is None\n",
        "Distance is None\n",
        "Color is 0\n",
        "vertex 7\n",
        "Parent is None\n",
        "Distance is None\n",
        "Color is 0\n",
        "vertex 8\n",
        "Parent is None\n",
        "Distance is None\n",
        "Color is 0\n"
       ]
      }
     ],
     "prompt_number": 55
    },
    {
     "cell_type": "code",
     "collapsed": false,
     "input": [
      "def breadth_first_search(graph, source):\n",
      "    graph[source].distance = 0\n",
      "    graph[source].color = 1\n",
      "    queue = []\n",
      "    queue.append(source)\n",
      "    while len(queue) != 0:\n",
      "        v = queue[0]\n",
      "        for e in graph[v].edges:\n",
      "            end_v = e.into\n",
      "            if graph[end_v].color == 0:\n",
      "                graph[end_v].color = 1\n",
      "                graph[end_v].parent = graph[v]\n",
      "                graph[end_v].distance = graph[v].distance + 1\n",
      "                queue.append(end_v)\n",
      "        graph[v].color = 2\n",
      "        queue.pop(0)\n",
      "    for i in range(1,len(graph)):\n",
      "        print \"vertex\", i\n",
      "        sample_graph[i].print_vals()"
     ],
     "language": "python",
     "metadata": {},
     "outputs": [],
     "prompt_number": 62
    },
    {
     "cell_type": "code",
     "collapsed": false,
     "input": [
      "breadth_first_search(sample_graph, 4)"
     ],
     "language": "python",
     "metadata": {},
     "outputs": [
      {
       "output_type": "stream",
       "stream": "stdout",
       "text": [
        "vertex 1\n",
        "Distance is 1\n",
        "Color is 2\n",
        "vertex 2\n",
        "Distance is 1\n",
        "Color is 2\n",
        "vertex 3\n",
        "Distance is 1\n",
        "Color is 2\n",
        "vertex 4\n",
        "Parent is None\n",
        "Distance is 0\n",
        "Color is 2\n",
        "vertex 5\n",
        "Distance is 1\n",
        "Color is 2\n",
        "vertex 6\n",
        "Distance is 1\n",
        "Color is 2\n",
        "vertex 7\n",
        "Distance is 1\n",
        "Color is 2\n",
        "vertex 8\n",
        "Parent is None\n",
        "Distance is None\n",
        "Color is 0\n"
       ]
      }
     ],
     "prompt_number": 63
    },
    {
     "cell_type": "code",
     "collapsed": false,
     "input": [],
     "language": "python",
     "metadata": {},
     "outputs": []
    }
   ],
   "metadata": {}
  }
 ]
}