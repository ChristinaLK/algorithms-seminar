{
 "metadata": {
  "name": ""
 },
 "nbformat": 3,
 "nbformat_minor": 0,
 "worksheets": [
  {
   "cells": [
    {
     "cell_type": "code",
     "collapsed": false,
     "input": [
      "class vertex:\n",
      "    def __init__(self, num):\n",
      "        self.num = num\n",
      "        self.edges = []\n",
      "        self.parent = None\n",
      "        self.distance = None\n",
      "        self.color = 0\n",
      "    \n",
      "    def __str__(self, mode=\"short\"):\n",
      "        parent_string, edges_string, color_string = \"None\", \" \" , \" \"\n",
      "        if self.parent != None:\n",
      "            parent_string = str(self.parent.num)\n",
      "        if self.edges != []:\n",
      "            for e in self.edges:\n",
      "                edges_string = edges_string+str(e.dest)+\", \"\n",
      "        if self.color == 0:\n",
      "            color_string = \"White\"\n",
      "        elif self.color == 1:\n",
      "            color_string == \"Grey\"\n",
      "        else: \n",
      "            color_string = \"Black\"\n",
      "        return \"Vertex: \"+str(self.num)+\" Parent: \"+parent_string+\" Distance: \"+str(self.distance)+\" Color: \"+color_string\n",
      "        '''\n",
      "        if mode==\"short\":\n",
      "            return \"Vertex: \"+str(self.num)+\" Edges: \"+edges_string+\" Parent: \"+parent_string\n",
      "        elif mode==\"long\":\n",
      "            return \"Vertex: \"+str(self.num)+\" Edges: \"+edges_string+\" Parent: \"+parent_string\n",
      "        elif mode==\"min\":\n",
      "            return \"Vertex: \"+str(self.num)+\" Parent: \"+parent_string+\" Distance: \"+str(self.distance)+\" Color: \"+color_string\n",
      "            '''"
     ],
     "language": "python",
     "metadata": {},
     "outputs": [],
     "prompt_number": 125
    },
    {
     "cell_type": "code",
     "collapsed": false,
     "input": [
      "sample_vertex = vertex(5)\n",
      "#sample_vertex.edges = []\n",
      "sample_vertex.edges.append(edge(4))\n",
      "sample_vertex.edges.append(edge(3))\n",
      "sample_vertex_2 = vertex(4)\n",
      "#sample_vertex_2.edges = []\n",
      "sample_vertex.parent = sample_vertex_2\n",
      "print sample_vertex.__str__()\n",
      "print sample_vertex_2.__str__()"
     ],
     "language": "python",
     "metadata": {},
     "outputs": [
      {
       "output_type": "stream",
       "stream": "stdout",
       "text": [
        "Vertex: 5 Edges:  4, 3,  Parent: 4\n",
        "Vertex: 4 Edges:   Parent: None\n"
       ]
      }
     ],
     "prompt_number": 114
    },
    {
     "cell_type": "code",
     "collapsed": false,
     "input": [
      "class edge:\n",
      "    def __init__(self, destination, weight=1):\n",
      "        self.dest = destination\n",
      "        self.weight = weight\n",
      "    \n",
      "    def __str__(self):\n",
      "        return \"Destination vertex: \"+str(self.dest)+\" Weight is: \"+str(self.weight)"
     ],
     "language": "python",
     "metadata": {},
     "outputs": [],
     "prompt_number": 115
    },
    {
     "cell_type": "code",
     "collapsed": false,
     "input": [
      "e1 = edge(2)\n",
      "e2 = edge(5, 3)\n",
      "print e1.__str__()\n",
      "print e2.__str__()"
     ],
     "language": "python",
     "metadata": {},
     "outputs": [
      {
       "output_type": "stream",
       "stream": "stdout",
       "text": [
        "Destination vertex: 2 Weight is: 1\n",
        "Destination vertex: 5 Weight is: 3\n"
       ]
      }
     ],
     "prompt_number": 116
    },
    {
     "cell_type": "code",
     "collapsed": false,
     "input": [
      "class adj_list:\n",
      "    def __init__(self, num, edge_list, directed=True, weighted=True):\n",
      "        self.size = num+1\n",
      "        self.vlist = []\n",
      "        for i in range(self.size):\n",
      "            self.vlist.append(vertex(i))\n",
      "        for e in edge_list:\n",
      "            if weighted:\n",
      "                start_vertex = e[0][0]\n",
      "                end_vertex = e[0][1]\n",
      "                weight = e[1]\n",
      "                self.vlist[start_vertex].edges.append(edge(end_vertex, weight))\n",
      "                if not directed:\n",
      "                    self.vlist[end_vertex].edges.append(edge(start_vertex, weight))                    \n",
      "            else:\n",
      "                start_vertex = e[0]\n",
      "                end_vertex = e[1]\n",
      "                self.vlist[start_vertex].edges.append(edge(end_vertex))\n",
      "                if not directed:\n",
      "                    self.vlist[end_vertex].edges.append(edge(start_vertex))\n",
      "\n",
      "    def __str__(self):\n",
      "        return_string = \" \"\n",
      "        for v in self.vlist:\n",
      "            return_string = return_string+v.__str__()+' \\n '\n",
      "        return return_string"
     ],
     "language": "python",
     "metadata": {},
     "outputs": [],
     "prompt_number": 159
    },
    {
     "cell_type": "code",
     "collapsed": false,
     "input": [
      "sample_edges = [ ((1,2), 1), ((1,3), 1), ((2,4), 1), ((3,4), 1), ((3,5), 1), ((3,7), 1), ((4,5), 1), ((4,6), 1)]\n",
      "\n",
      "sample_graph = adj_list(sample_edges,False)\n",
      "print sample_graph.__str__()"
     ],
     "language": "python",
     "metadata": {},
     "outputs": [
      {
       "output_type": "stream",
       "stream": "stdout",
       "text": [
        " Vertex: 0 Parent: None Distance: None Color: White \n",
        " Vertex: 1 Parent: None Distance: None Color: White \n",
        " Vertex: 2 Parent: None Distance: None Color: White \n",
        " Vertex: 3 Parent: None Distance: None Color: White \n",
        " Vertex: 4 Parent: None Distance: None Color: White \n",
        " Vertex: 5 Parent: None Distance: None Color: White \n",
        " Vertex: 6 Parent: None Distance: None Color: White \n",
        " Vertex: 7 Parent: None Distance: None Color: White \n",
        " Vertex: 8 Parent: None Distance: None Color: White \n",
        " \n"
       ]
      }
     ],
     "prompt_number": 160
    },
    {
     "cell_type": "code",
     "collapsed": false,
     "input": [
      "def breadth_first_search(graph, source):\n",
      "    graph.vlist[source].distance = 0\n",
      "    graph.vlist[source].color = 1\n",
      "    queue = []\n",
      "    queue.append(source)\n",
      "    while len(queue) != 0:\n",
      "        v = queue[0]\n",
      "        for e in graph.vlist[v].edges:\n",
      "            end_v = e.dest\n",
      "            if graph.vlist[end_v].color == 0:\n",
      "                graph.vlist[end_v].color = 1\n",
      "                graph.vlist[end_v].parent = graph.vlist[v]\n",
      "                graph.vlist[end_v].distance = graph.vlist[v].distance + 1\n",
      "                queue.append(end_v)\n",
      "        graph.vlist[v].color = 2\n",
      "        queue.pop(0\n",
      "    return graph"
     ],
     "language": "python",
     "metadata": {},
     "outputs": [],
     "prompt_number": 134
    },
    {
     "cell_type": "code",
     "collapsed": false,
     "input": [
      "print breadth_first_search(sample_graph, 4).__str__()"
     ],
     "language": "python",
     "metadata": {},
     "outputs": [
      {
       "output_type": "stream",
       "stream": "stdout",
       "text": [
        " Vertex: 0 Parent: None Distance: None Color: White \n",
        " Vertex: 1 Parent: 2 Distance: 2 Color: Black \n",
        " Vertex: 2 Parent: 4 Distance: 1 Color: Black \n",
        " Vertex: 3 Parent: 4 Distance: 1 Color: Black \n",
        " Vertex: 4 Parent: None Distance: 0 Color: Black \n",
        " Vertex: 5 Parent: 4 Distance: 1 Color: Black \n",
        " Vertex: 6 Parent: 4 Distance: 1 Color: Black \n",
        " Vertex: 7 Parent: 3 Distance: 2 Color: Black \n",
        " Vertex: 8 Parent: None Distance: None Color: White \n",
        " \n"
       ]
      }
     ],
     "prompt_number": 161
    },
    {
     "cell_type": "code",
     "collapsed": false,
     "input": [],
     "language": "python",
     "metadata": {},
     "outputs": [],
     "prompt_number": 135
    },
    {
     "cell_type": "code",
     "collapsed": false,
     "input": [
      "weirdness = vertex(4)\n",
      "print weirdness.__str__()"
     ],
     "language": "python",
     "metadata": {},
     "outputs": [
      {
       "output_type": "stream",
       "stream": "stdout",
       "text": [
        "Vertex: 4 Parent: None Distance: None Color: White\n"
       ]
      }
     ],
     "prompt_number": 136
    },
    {
     "cell_type": "code",
     "collapsed": false,
     "input": [
      "weird_string = \"monkeys \\n eat \\n bananas\"\n",
      "\n",
      "print weird_string"
     ],
     "language": "python",
     "metadata": {},
     "outputs": [
      {
       "output_type": "stream",
       "stream": "stdout",
       "text": [
        "monkeys \n",
        " eat \n",
        " bananas\n"
       ]
      }
     ],
     "prompt_number": 147
    },
    {
     "cell_type": "code",
     "collapsed": false,
     "input": [],
     "language": "python",
     "metadata": {},
     "outputs": []
    }
   ],
   "metadata": {}
  }
 ]
}